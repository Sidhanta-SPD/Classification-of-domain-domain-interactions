{
 "cells": [
  {
   "cell_type": "markdown",
   "id": "ready-board",
   "metadata": {},
   "source": [
    "# taking random 110 non-obl proteins to compare with 110 obl proteins"
   ]
  },
  {
   "cell_type": "code",
   "execution_count": 1,
   "id": "technological-romantic",
   "metadata": {},
   "outputs": [],
   "source": [
    "import os\n",
    "from prody import *\n",
    "import numpy as np\n",
    "import matplotlib.pyplot as plt\n",
    "import seaborn as sns\n",
    "import pandas as pd\n",
    "import re #regular expression\n",
    "from scipy.stats import mannwhitneyu #mann-whitney test\n",
    "from scipy.stats import kstest #ks-test"
   ]
  },
  {
   "cell_type": "code",
   "execution_count": 4,
   "id": "referenced-scholarship",
   "metadata": {},
   "outputs": [],
   "source": [
    "pdb_dir=\"/home/sidhant/Sidhanta/work/multidomain/noxclass_trial/noxclass_inputs/nox_input_pdbs/\"\n",
    "obl_file= pd.read_csv(\"../../obl_final\",sep=',',header=None) #this contain pdbs and its uniprot\n",
    "non_obl_file=pd.read_csv(\"../../non_obl_final\",sep=',',header=None)\n",
    "obl_pdbs=obl_file.iloc[:,0] #obl pdbs\n",
    "#non_obl_pdbs=non_obl_file.iloc[:,0] #non-obl pdbs re-classified\n",
    "\n",
    "data=open(\"/home/sidhant/Sidhanta/work/multidomain/dir.cla.scope.2.07-stable.txt\")\n",
    "data_lines=data.readlines()"
   ]
  },
  {
   "cell_type": "code",
   "execution_count": 5,
   "id": "dirty-experience",
   "metadata": {},
   "outputs": [],
   "source": [
    "#~~~~~~~~~~~~~~~~~~~~~~~~~~~~~~~~~~~~~~~~~~~~~~~~~~~~~~~~~\n",
    "def find_pdb(pdb, list_name):  #function to find position of pdb in the dir.cla file using readlines and uses package 're'  \n",
    "    pdb = str(pdb)\n",
    "    locs=[]\n",
    "    for i in range(len(list_name)):\n",
    "        if (list_name[i].find(pdb,7)== -1): #find pdb after 7th position i.e. 2nd column\n",
    "            continue\n",
    "        else:\n",
    "            locs.append(i)\n",
    "    return(locs)\n",
    "\n",
    "def dom_start(string):  #left side of boundary\n",
    "    b=re.findall(r'(:)(\\d+)(-)',string) #:followed by one or more integer followed by -\n",
    "    return(b)\n",
    "def dom_end(string): #right side of boundary\n",
    "    a=re.findall(r'(-)(\\d+)(\\t)',string) #-followed by one or more integer followed by tab\n",
    "    return(a)\n",
    "#~~~~~~~~~~~~~~~~~~~~~~~~~~~~~~~~~~~~~~~~~~~~~~~~~~~~~~~~~~~"
   ]
  },
  {
   "cell_type": "code",
   "execution_count": 6,
   "id": "municipal-married",
   "metadata": {},
   "outputs": [
    {
     "name": "stdout",
     "output_type": "stream",
     "text": [
      "153\n"
     ]
    },
    {
     "data": {
      "text/plain": [
       "65     1VLI\n",
       "55     1T3S\n",
       "5      1C4O\n",
       "112    3DEO\n",
       "50     1RQ5\n",
       "       ... \n",
       "78     2BMW\n",
       "27     1HNF\n",
       "62     1UNF\n",
       "15     1EN2\n",
       "43     1NKR\n",
       "Name: 0, Length: 110, dtype: object"
      ]
     },
     "execution_count": 6,
     "metadata": {},
     "output_type": "execute_result"
    }
   ],
   "source": [
    "rand_nos=np.random.randint(0,154,110)#start,finish,size. finish is exclusive.so 154\n",
    "\n",
    "non_obl_pdbs1=non_obl_file.iloc[[i for i in rand_nos],0]#contains random list of non-obl protein structur ids\n",
    "print(max(rand_nos))\n",
    "non_obl_pdbs1"
   ]
  },
  {
   "cell_type": "code",
   "execution_count": 7,
   "id": "intermediate-honey",
   "metadata": {},
   "outputs": [
    {
     "name": "stderr",
     "output_type": "stream",
     "text": [
      "@> 1102 atoms and 1 coordinate set(s) were parsed in 0.01s.\n",
      "@> Secondary structures were assigned to 67 residues.\n",
      "@> Hessian was built in 0.07s.\n",
      "@> 20 modes were calculated in 0.02s.\n"
     ]
    },
    {
     "name": "stdout",
     "output_type": "stream",
     "text": [
      "[1, 47, 48, 125]\n",
      "47 48\n"
     ]
    },
    {
     "name": "stderr",
     "output_type": "stream",
     "text": [
      "@> 4083 atoms and 1 coordinate set(s) were parsed in 0.05s.\n",
      "@> Secondary structures were assigned to 214 residues.\n"
     ]
    },
    {
     "name": "stdout",
     "output_type": "stream",
     "text": [
      "[1, 247, 248, 452]\n",
      "247 248\n"
     ]
    },
    {
     "name": "stderr",
     "output_type": "stream",
     "text": [
      "@> Hessian was built in 0.32s.\n",
      "@> 20 modes were calculated in 0.16s.\n",
      "@> 1928 atoms and 1 coordinate set(s) were parsed in 0.02s.\n",
      "@> Secondary structures were assigned to 138 residues.\n",
      "@> Hessian was built in 0.15s.\n"
     ]
    },
    {
     "name": "stdout",
     "output_type": "stream",
     "text": [
      "[121, 251, 260, 375]\n",
      "131 140\n"
     ]
    },
    {
     "name": "stderr",
     "output_type": "stream",
     "text": [
      "@> 20 modes were calculated in 0.06s.\n",
      "@> 1592 atoms and 1 coordinate set(s) were parsed in 0.02s.\n",
      "@> Secondary structures were assigned to 127 residues.\n",
      "@> Hessian was built in 0.10s.\n",
      "@> 20 modes were calculated in 0.03s.\n"
     ]
    },
    {
     "name": "stdout",
     "output_type": "stream",
     "text": [
      "[1, 97, 98, 178]\n",
      "97 98\n"
     ]
    },
    {
     "name": "stderr",
     "output_type": "stream",
     "text": [
      "@> 2192 atoms and 1 coordinate set(s) were parsed in 0.02s.\n",
      "@> Secondary structures were assigned to 180 residues.\n"
     ]
    },
    {
     "name": "stdout",
     "output_type": "stream",
     "text": [
      "[1, 132, 133, 288]\n",
      "132 133\n"
     ]
    },
    {
     "name": "stderr",
     "output_type": "stream",
     "text": [
      "@> Hessian was built in 0.19s.\n",
      "@> 20 modes were calculated in 0.08s.\n",
      "@> 1060 atoms and 1 coordinate set(s) were parsed in 0.01s.\n",
      "@> Secondary structures were assigned to 80 residues.\n",
      "@> Hessian was built in 0.06s.\n",
      "@> 20 modes were calculated in 0.04s.\n"
     ]
    },
    {
     "name": "stdout",
     "output_type": "stream",
     "text": [
      "[4, 73, 74, 133]\n",
      "70 71\n"
     ]
    },
    {
     "name": "stderr",
     "output_type": "stream",
     "text": [
      "@> 4005 atoms and 1 coordinate set(s) were parsed in 0.04s.\n",
      "@> Secondary structures were assigned to 295 residues.\n"
     ]
    },
    {
     "name": "stdout",
     "output_type": "stream",
     "text": [
      "[1, 217, 218, 456]\n",
      "217 218\n"
     ]
    },
    {
     "name": "stderr",
     "output_type": "stream",
     "text": [
      "@> Hessian was built in 0.29s.\n",
      "@> 20 modes were calculated in 0.17s.\n",
      "@> 1536 atoms and 1 coordinate set(s) were parsed in 0.02s.\n",
      "@> Secondary structures were assigned to 93 residues.\n",
      "@> Hessian was built in 0.09s.\n",
      "@> 20 modes were calculated in 0.04s.\n"
     ]
    },
    {
     "name": "stdout",
     "output_type": "stream",
     "text": [
      "[4, 85, 86, 174]\n",
      "82 83\n"
     ]
    },
    {
     "name": "stderr",
     "output_type": "stream",
     "text": [
      "@> 5029 atoms and 1 coordinate set(s) were parsed in 0.05s.\n",
      "@> Secondary structures were assigned to 456 residues.\n"
     ]
    },
    {
     "name": "stdout",
     "output_type": "stream",
     "text": [
      "[7, 283, 284, 583]\n",
      "277 278\n"
     ]
    },
    {
     "name": "stderr",
     "output_type": "stream",
     "text": [
      "@> Hessian was built in 0.38s.\n",
      "@> 20 modes were calculated in 0.39s.\n",
      "@> 1637 atoms and 1 coordinate set(s) were parsed in 0.02s.\n",
      "@> Secondary structures were assigned to 117 residues.\n",
      "@> Hessian was built in 0.13s.\n"
     ]
    },
    {
     "name": "stdout",
     "output_type": "stream",
     "text": [
      "[27, 128, 129, 238]\n",
      "102 103\n"
     ]
    },
    {
     "name": "stderr",
     "output_type": "stream",
     "text": [
      "@> 20 modes were calculated in 0.05s.\n",
      "@> 2430 atoms and 1 coordinate set(s) were parsed in 0.03s.\n",
      "@> Secondary structures were assigned to 160 residues.\n"
     ]
    },
    {
     "name": "stdout",
     "output_type": "stream",
     "text": [
      "[2, 189, 190, 293]\n",
      "188 189\n"
     ]
    },
    {
     "name": "stderr",
     "output_type": "stream",
     "text": [
      "@> Hessian was built in 0.17s.\n",
      "@> 20 modes were calculated in 0.08s.\n",
      "@> 2900 atoms and 1 coordinate set(s) were parsed in 0.03s.\n",
      "@> Secondary structures were assigned to 194 residues.\n"
     ]
    },
    {
     "name": "stdout",
     "output_type": "stream",
     "text": [
      "[7, 175, 176, 393]\n",
      "169 170\n"
     ]
    },
    {
     "name": "stderr",
     "output_type": "stream",
     "text": [
      "@> Hessian was built in 0.24s.\n",
      "@> 20 modes were calculated in 0.10s.\n",
      "@> 929 atoms and 1 coordinate set(s) were parsed in 0.01s.\n",
      "@> Secondary structures were assigned to 71 residues.\n",
      "@> Hessian was built in 0.06s.\n",
      "@> 20 modes were calculated in 0.01s.\n"
     ]
    },
    {
     "name": "stdout",
     "output_type": "stream",
     "text": [
      "[89, 143, 144, 190]\n",
      "55 56\n"
     ]
    },
    {
     "name": "stderr",
     "output_type": "stream",
     "text": [
      "@> 6719 atoms and 1 coordinate set(s) were parsed in 0.07s.\n",
      "@> Secondary structures were assigned to 425 residues.\n"
     ]
    },
    {
     "name": "stdout",
     "output_type": "stream",
     "text": [
      "[1, 430, 431, 710]\n",
      "430 431\n"
     ]
    },
    {
     "name": "stderr",
     "output_type": "stream",
     "text": [
      "@> Hessian was built in 0.58s.\n",
      "@> 20 modes were calculated in 0.87s.\n",
      "@> 4117 atoms and 1 coordinate set(s) were parsed in 0.04s.\n",
      "@> Secondary structures were assigned to 315 residues.\n"
     ]
    },
    {
     "name": "stdout",
     "output_type": "stream",
     "text": [
      "[18, 224, 225, 486]\n",
      "207 208\n"
     ]
    },
    {
     "name": "stderr",
     "output_type": "stream",
     "text": [
      "@> Hessian was built in 0.35s.\n",
      "@> 20 modes were calculated in 0.24s.\n",
      "@> 7703 atoms and 1 coordinate set(s) were parsed in 0.08s.\n",
      "@> Secondary structures were assigned to 612 residues.\n"
     ]
    },
    {
     "name": "stdout",
     "output_type": "stream",
     "text": [
      "[1, 375, 376, 903]\n",
      "375 376\n"
     ]
    },
    {
     "name": "stderr",
     "output_type": "stream",
     "text": [
      "@> Hessian was built in 0.67s.\n",
      "@> 20 modes were calculated in 2.83s.\n",
      "@> 3305 atoms and 1 coordinate set(s) were parsed in 0.03s.\n",
      "@> Secondary structures were assigned to 228 residues.\n"
     ]
    },
    {
     "name": "stdout",
     "output_type": "stream",
     "text": [
      "[2, 196, 197, 365]\n",
      "195 196\n"
     ]
    },
    {
     "name": "stderr",
     "output_type": "stream",
     "text": [
      "@> Hessian was built in 0.25s.\n",
      "@> 20 modes were calculated in 0.10s.\n",
      "@> 1446 atoms and 1 coordinate set(s) were parsed in 0.02s.\n",
      "@> Secondary structures were assigned to 134 residues.\n",
      "@> Hessian was built in 0.10s.\n",
      "@> 20 modes were calculated in 0.03s.\n"
     ]
    },
    {
     "name": "stdout",
     "output_type": "stream",
     "text": [
      "[3, 67, 68, 174]\n",
      "65 66\n"
     ]
    },
    {
     "name": "stderr",
     "output_type": "stream",
     "text": [
      "@> 2702 atoms and 1 coordinate set(s) were parsed in 0.03s.\n",
      "@> Secondary structures were assigned to 248 residues.\n"
     ]
    },
    {
     "name": "stdout",
     "output_type": "stream",
     "text": [
      "[1, 239, 240, 344]\n",
      "239 240\n"
     ]
    },
    {
     "name": "stderr",
     "output_type": "stream",
     "text": [
      "@> Hessian was built in 0.22s.\n",
      "@> 20 modes were calculated in 0.09s.\n",
      "@> 4999 atoms and 1 coordinate set(s) were parsed in 0.05s.\n",
      "@> Secondary structures were assigned to 357 residues.\n"
     ]
    },
    {
     "name": "stdout",
     "output_type": "stream",
     "text": [
      "[10, 259, 260, 622]\n",
      "250 251\n"
     ]
    },
    {
     "name": "stderr",
     "output_type": "stream",
     "text": [
      "@> Hessian was built in 0.47s.\n",
      "@> 20 modes were calculated in 0.57s.\n",
      "@> 2529 atoms and 1 coordinate set(s) were parsed in 0.03s.\n",
      "@> Secondary structures were assigned to 179 residues.\n"
     ]
    },
    {
     "name": "stdout",
     "output_type": "stream",
     "text": [
      "[430, 525, 526, 724]\n",
      "96 97\n"
     ]
    },
    {
     "name": "stderr",
     "output_type": "stream",
     "text": [
      "@> Hessian was built in 0.16s.\n",
      "@> 20 modes were calculated in 0.07s.\n",
      "@> 2713 atoms and 1 coordinate set(s) were parsed in 0.03s.\n",
      "@> Secondary structures were assigned to 253 residues.\n"
     ]
    },
    {
     "name": "stdout",
     "output_type": "stream",
     "text": [
      "[77, 289, 290, 399]\n",
      "213 214\n"
     ]
    },
    {
     "name": "stderr",
     "output_type": "stream",
     "text": [
      "@> Hessian was built in 0.20s.\n",
      "@> 20 modes were calculated in 0.23s.\n",
      "@> 2843 atoms and 1 coordinate set(s) were parsed in 0.03s.\n",
      "@> Secondary structures were assigned to 216 residues.\n"
     ]
    },
    {
     "name": "stdout",
     "output_type": "stream",
     "text": [
      "[1, 160, 161, 329]\n",
      "160 161\n"
     ]
    },
    {
     "name": "stderr",
     "output_type": "stream",
     "text": [
      "@> Hessian was built in 0.23s.\n",
      "@> 20 modes were calculated in 0.10s.\n",
      "@> 2576 atoms and 1 coordinate set(s) were parsed in 0.03s.\n",
      "@> Secondary structures were assigned to 133 residues.\n"
     ]
    },
    {
     "name": "stdout",
     "output_type": "stream",
     "text": [
      "[358, 433, 434, 686]\n",
      "76 77\n"
     ]
    },
    {
     "name": "stderr",
     "output_type": "stream",
     "text": [
      "@> Hessian was built in 0.23s.\n",
      "@> 20 modes were calculated in 0.08s.\n",
      "@> 2519 atoms and 1 coordinate set(s) were parsed in 0.03s.\n",
      "@> Secondary structures were assigned to 216 residues.\n"
     ]
    },
    {
     "name": "stdout",
     "output_type": "stream",
     "text": [
      "[236, 435, 436, 602]\n",
      "200 201\n"
     ]
    },
    {
     "name": "stderr",
     "output_type": "stream",
     "text": [
      "@> Hessian was built in 0.18s.\n",
      "@> 20 modes were calculated in 0.09s.\n",
      "@> 3181 atoms and 1 coordinate set(s) were parsed in 0.03s.\n",
      "@> Secondary structures were assigned to 231 residues.\n"
     ]
    },
    {
     "name": "stdout",
     "output_type": "stream",
     "text": [
      "[1, 164, 165, 335]\n",
      "164 165\n"
     ]
    },
    {
     "name": "stderr",
     "output_type": "stream",
     "text": [
      "@> Hessian was built in 0.23s.\n",
      "@> 20 modes were calculated in 0.12s.\n",
      "@> 5291 atoms and 1 coordinate set(s) were parsed in 0.06s.\n",
      "@> Secondary structures were assigned to 308 residues.\n"
     ]
    },
    {
     "name": "stdout",
     "output_type": "stream",
     "text": [
      "[2, 312, 313, 611]\n",
      "311 312\n"
     ]
    },
    {
     "name": "stderr",
     "output_type": "stream",
     "text": [
      "@> Hessian was built in 0.49s.\n",
      "@> 20 modes were calculated in 0.64s.\n",
      "@> 2858 atoms and 1 coordinate set(s) were parsed in 0.03s.\n",
      "@> Secondary structures were assigned to 235 residues.\n"
     ]
    },
    {
     "name": "stdout",
     "output_type": "stream",
     "text": [
      "[1231, 1414, 1415, 1535]\n",
      "184 185\n"
     ]
    },
    {
     "name": "stderr",
     "output_type": "stream",
     "text": [
      "@> Hessian was built in 0.19s.\n",
      "@> 20 modes were calculated in 0.12s.\n",
      "@> 2801 atoms and 1 coordinate set(s) were parsed in 0.03s.\n",
      "@> Secondary structures were assigned to 212 residues.\n"
     ]
    },
    {
     "name": "stdout",
     "output_type": "stream",
     "text": [
      "[42, 198, 199, 380]\n",
      "157 158\n"
     ]
    },
    {
     "name": "stderr",
     "output_type": "stream",
     "text": [
      "@> Hessian was built in 0.22s.\n",
      "@> 20 modes were calculated in 0.09s.\n",
      "@> 2221 atoms and 1 coordinate set(s) were parsed in 0.02s.\n",
      "@> Secondary structures were assigned to 188 residues.\n",
      "@> Hessian was built in 0.14s.\n"
     ]
    },
    {
     "name": "stdout",
     "output_type": "stream",
     "text": [
      "[1, 125, 126, 250]\n",
      "125 126\n"
     ]
    },
    {
     "name": "stderr",
     "output_type": "stream",
     "text": [
      "@> 20 modes were calculated in 0.05s.\n",
      "@> 4808 atoms and 1 coordinate set(s) were parsed in 0.05s.\n",
      "@> Secondary structures were assigned to 323 residues.\n"
     ]
    },
    {
     "name": "stdout",
     "output_type": "stream",
     "text": [
      "[2, 326, 327, 613]\n",
      "325 326\n"
     ]
    },
    {
     "name": "stderr",
     "output_type": "stream",
     "text": [
      "@> Hessian was built in 0.47s.\n",
      "@> 20 modes were calculated in 0.38s.\n",
      "@> 1344 atoms and 1 coordinate set(s) were parsed in 0.01s.\n",
      "@> Secondary structures were assigned to 94 residues.\n",
      "@> Hessian was built in 0.09s.\n",
      "@> 20 modes were calculated in 0.03s.\n"
     ]
    },
    {
     "name": "stdout",
     "output_type": "stream",
     "text": [
      "[3, 68, 69, 153]\n",
      "66 67\n"
     ]
    },
    {
     "name": "stderr",
     "output_type": "stream",
     "text": [
      "@> 6125 atoms and 1 coordinate set(s) were parsed in 0.06s.\n",
      "@> Secondary structures were assigned to 492 residues.\n"
     ]
    },
    {
     "name": "stdout",
     "output_type": "stream",
     "text": [
      "[2, 389, 390, 783]\n",
      "388 389\n"
     ]
    },
    {
     "name": "stderr",
     "output_type": "stream",
     "text": [
      "@> Hessian was built in 0.51s.\n",
      "@> 20 modes were calculated in 0.78s.\n",
      "@> 3389 atoms and 1 coordinate set(s) were parsed in 0.03s.\n",
      "@> Secondary structures were assigned to 276 residues.\n"
     ]
    },
    {
     "name": "stdout",
     "output_type": "stream",
     "text": [
      "[62, 264, 265, 462]\n",
      "203 204\n"
     ]
    },
    {
     "name": "stderr",
     "output_type": "stream",
     "text": [
      "@> Hessian was built in 0.27s.\n",
      "@> 20 modes were calculated in 0.11s.\n",
      "@> 2201 atoms and 1 coordinate set(s) were parsed in 0.02s.\n",
      "@> Secondary structures were assigned to 160 residues.\n",
      "@> Hessian was built in 0.14s.\n"
     ]
    },
    {
     "name": "stdout",
     "output_type": "stream",
     "text": [
      "[692, 824, 825, 938]\n",
      "133 134\n"
     ]
    },
    {
     "name": "stderr",
     "output_type": "stream",
     "text": [
      "@> 20 modes were calculated in 0.05s.\n",
      "@> 2867 atoms and 1 coordinate set(s) were parsed in 0.03s.\n",
      "@> Secondary structures were assigned to 258 residues.\n"
     ]
    },
    {
     "name": "stdout",
     "output_type": "stream",
     "text": [
      "[10, 101, 102, 357]\n",
      "92 93\n"
     ]
    },
    {
     "name": "stderr",
     "output_type": "stream",
     "text": [
      "@> Hessian was built in 0.21s.\n",
      "@> 20 modes were calculated in 0.13s.\n",
      "@> 2789 atoms and 1 coordinate set(s) were parsed in 0.03s.\n",
      "@> Secondary structures were assigned to 266 residues.\n"
     ]
    },
    {
     "name": "stdout",
     "output_type": "stream",
     "text": [
      "[3, 212, 213, 365]\n",
      "210 211\n"
     ]
    },
    {
     "name": "stderr",
     "output_type": "stream",
     "text": [
      "@> Hessian was built in 0.25s.\n",
      "@> 20 modes were calculated in 0.09s.\n",
      "@> 2733 atoms and 1 coordinate set(s) were parsed in 0.03s.\n",
      "@> Secondary structures were assigned to 120 residues.\n"
     ]
    },
    {
     "name": "stdout",
     "output_type": "stream",
     "text": [
      "[1, 149, 150, 293]\n",
      "149 150\n"
     ]
    },
    {
     "name": "stderr",
     "output_type": "stream",
     "text": [
      "@> Hessian was built in 0.19s.\n",
      "@> 20 modes were calculated in 0.07s.\n",
      "@> 5875 atoms and 1 coordinate set(s) were parsed in 0.06s.\n",
      "@> Secondary structures were assigned to 482 residues.\n"
     ]
    },
    {
     "name": "stdout",
     "output_type": "stream",
     "text": [
      "[10, 221, 222, 748]\n",
      "212 213\n"
     ]
    },
    {
     "name": "stderr",
     "output_type": "stream",
     "text": [
      "@> Hessian was built in 0.56s.\n",
      "@> 20 modes were calculated in 0.80s.\n",
      "@> 6230 atoms and 1 coordinate set(s) were parsed in 0.06s.\n",
      "@> Secondary structures were assigned to 475 residues.\n"
     ]
    },
    {
     "name": "stdout",
     "output_type": "stream",
     "text": [
      "[40, 449, 450, 864]\n",
      "410 411\n"
     ]
    },
    {
     "name": "stderr",
     "output_type": "stream",
     "text": [
      "@> Hessian was built in 0.49s.\n",
      "@> 20 modes were calculated in 0.77s.\n",
      "@> 3363 atoms and 1 coordinate set(s) were parsed in 0.03s.\n",
      "@> Secondary structures were assigned to 313 residues.\n"
     ]
    },
    {
     "name": "stdout",
     "output_type": "stream",
     "text": [
      "[4, 172, 173, 445]\n",
      "169 170\n"
     ]
    },
    {
     "name": "stderr",
     "output_type": "stream",
     "text": [
      "@> Hessian was built in 0.29s.\n",
      "@> 20 modes were calculated in 0.12s.\n",
      "@> 3741 atoms and 1 coordinate set(s) were parsed in 0.04s.\n",
      "@> Secondary structures were assigned to 165 residues.\n"
     ]
    },
    {
     "name": "stdout",
     "output_type": "stream",
     "text": [
      "[4, 246, 247, 471]\n",
      "243 244\n"
     ]
    },
    {
     "name": "stderr",
     "output_type": "stream",
     "text": [
      "@> Hessian was built in 0.33s.\n",
      "@> 20 modes were calculated in 0.17s.\n",
      "@> 1540 atoms and 1 coordinate set(s) were parsed in 0.02s.\n",
      "@> Secondary structures were assigned to 124 residues.\n",
      "@> Hessian was built in 0.10s.\n",
      "@> 20 modes were calculated in 0.03s.\n"
     ]
    },
    {
     "name": "stdout",
     "output_type": "stream",
     "text": [
      "[1, 94, 95, 176]\n",
      "94 95\n"
     ]
    },
    {
     "name": "stderr",
     "output_type": "stream",
     "text": [
      "@> 4550 atoms and 1 coordinate set(s) were parsed in 0.05s.\n",
      "@> Secondary structures were assigned to 303 residues.\n"
     ]
    },
    {
     "name": "stdout",
     "output_type": "stream",
     "text": [
      "[12, 190, 192, 546]\n",
      "179 181\n"
     ]
    },
    {
     "name": "stderr",
     "output_type": "stream",
     "text": [
      "@> Hessian was built in 0.42s.\n",
      "@> 20 modes were calculated in 0.24s.\n",
      "@> 2972 atoms and 1 coordinate set(s) were parsed in 0.03s.\n",
      "@> Secondary structures were assigned to 294 residues.\n"
     ]
    },
    {
     "name": "stdout",
     "output_type": "stream",
     "text": [
      "[766, 999, 1020, 1133]\n",
      "234 255\n"
     ]
    },
    {
     "name": "stderr",
     "output_type": "stream",
     "text": [
      "@> Hessian was built in 0.20s.\n",
      "@> 20 modes were calculated in 0.09s.\n",
      "@> 4110 atoms and 1 coordinate set(s) were parsed in 0.04s.\n",
      "@> Secondary structures were assigned to 333 residues.\n"
     ]
    },
    {
     "name": "stdout",
     "output_type": "stream",
     "text": [
      "[13, 197, 198, 497]\n",
      "185 186\n"
     ]
    },
    {
     "name": "stderr",
     "output_type": "stream",
     "text": [
      "@> Hessian was built in 0.33s.\n",
      "@> 20 modes were calculated in 0.19s.\n",
      "@> 2068 atoms and 1 coordinate set(s) were parsed in 0.02s.\n",
      "@> Secondary structures were assigned to 188 residues.\n",
      "@> Hessian was built in 0.10s.\n",
      "@> 20 modes were calculated in 0.04s.\n"
     ]
    },
    {
     "name": "stdout",
     "output_type": "stream",
     "text": [
      "[1662, 1771, 1772, 1872]\n",
      "110 111\n"
     ]
    },
    {
     "name": "stderr",
     "output_type": "stream",
     "text": [
      "@> 1590 atoms and 1 coordinate set(s) were parsed in 0.02s.\n",
      "@> Secondary structures were assigned to 102 residues.\n",
      "@> Hessian was built in 0.10s.\n",
      "@> 20 modes were calculated in 0.04s.\n"
     ]
    },
    {
     "name": "stdout",
     "output_type": "stream",
     "text": [
      "[2, 100, 101, 196]\n",
      "99 100\n"
     ]
    },
    {
     "name": "stderr",
     "output_type": "stream",
     "text": [
      "@> 2230 atoms and 1 coordinate set(s) were parsed in 0.02s.\n",
      "@> Secondary structures were assigned to 196 residues.\n"
     ]
    },
    {
     "name": "stdout",
     "output_type": "stream",
     "text": [
      "[1, 148, 149, 268]\n",
      "148 149\n"
     ]
    },
    {
     "name": "stderr",
     "output_type": "stream",
     "text": [
      "@> Hessian was built in 0.18s.\n",
      "@> 20 modes were calculated in 0.06s.\n",
      "@> 4365 atoms and 1 coordinate set(s) were parsed in 0.04s.\n",
      "@> Secondary structures were assigned to 306 residues.\n"
     ]
    },
    {
     "name": "stdout",
     "output_type": "stream",
     "text": [
      "[6, 263, 264, 514]\n",
      "258 259\n"
     ]
    },
    {
     "name": "stderr",
     "output_type": "stream",
     "text": [
      "@> Hessian was built in 0.38s.\n",
      "@> 20 modes were calculated in 0.22s.\n",
      "@> 1693 atoms and 1 coordinate set(s) were parsed in 0.02s.\n",
      "@> Secondary structures were assigned to 151 residues.\n",
      "@> Hessian was built in 0.10s.\n",
      "@> 20 modes were calculated in 0.03s.\n"
     ]
    },
    {
     "name": "stdout",
     "output_type": "stream",
     "text": [
      "[9, 107, 108, 201]\n",
      "99 100\n"
     ]
    },
    {
     "name": "stderr",
     "output_type": "stream",
     "text": [
      "@> 3482 atoms and 1 coordinate set(s) were parsed in 0.04s.\n",
      "@> Secondary structures were assigned to 266 residues.\n"
     ]
    },
    {
     "name": "stdout",
     "output_type": "stream",
     "text": [
      "[11, 170, 171, 427]\n",
      "160 161\n"
     ]
    },
    {
     "name": "stderr",
     "output_type": "stream",
     "text": [
      "@> Hessian was built in 0.27s.\n",
      "@> 20 modes were calculated in 0.11s.\n",
      "@> 1402 atoms and 1 coordinate set(s) were parsed in 0.02s.\n",
      "@> Secondary structures were assigned to 91 residues.\n",
      "@> Hessian was built in 0.07s.\n",
      "@> 20 modes were calculated in 0.02s.\n"
     ]
    },
    {
     "name": "stdout",
     "output_type": "stream",
     "text": [
      "[19, 86, 87, 165]\n",
      "68 69\n"
     ]
    },
    {
     "name": "stderr",
     "output_type": "stream",
     "text": [
      "@> 879 atoms and 1 coordinate set(s) were parsed in 0.01s.\n",
      "@> Secondary structures were assigned to 56 residues.\n",
      "@> Hessian was built in 0.04s.\n",
      "@> 20 modes were calculated in 0.01s.\n"
     ]
    },
    {
     "name": "stdout",
     "output_type": "stream",
     "text": [
      "[20, 70, 71, 114]\n",
      "51 52\n",
      "[1, 193, 194, 374]\n",
      "193 194\n"
     ]
    },
    {
     "name": "stderr",
     "output_type": "stream",
     "text": [
      "@> 3163 atoms and 1 coordinate set(s) were parsed in 0.03s.\n",
      "@> Secondary structures were assigned to 239 residues.\n",
      "@> Hessian was built in 0.22s.\n",
      "@> 20 modes were calculated in 0.10s.\n",
      "@> 3195 atoms and 1 coordinate set(s) were parsed in 0.03s.\n",
      "@> Secondary structures were assigned to 272 residues.\n"
     ]
    },
    {
     "name": "stdout",
     "output_type": "stream",
     "text": [
      "[2, 246, 247, 440]\n",
      "245 246\n"
     ]
    },
    {
     "name": "stderr",
     "output_type": "stream",
     "text": [
      "@> Hessian was built in 0.28s.\n",
      "@> 20 modes were calculated in 0.12s.\n",
      "@> 2542 atoms and 1 coordinate set(s) were parsed in 0.03s.\n",
      "@> Secondary structures were assigned to 194 residues.\n"
     ]
    },
    {
     "name": "stdout",
     "output_type": "stream",
     "text": [
      "[2, 90, 91, 281]\n",
      "89 90\n"
     ]
    },
    {
     "name": "stderr",
     "output_type": "stream",
     "text": [
      "@> Hessian was built in 0.16s.\n",
      "@> 20 modes were calculated in 0.07s.\n",
      "@> 5280 atoms and 1 coordinate set(s) were parsed in 0.05s.\n",
      "@> Secondary structures were assigned to 430 residues.\n"
     ]
    },
    {
     "name": "stdout",
     "output_type": "stream",
     "text": [
      "[8, 282, 283, 596]\n",
      "275 276\n"
     ]
    },
    {
     "name": "stderr",
     "output_type": "stream",
     "text": [
      "@> Hessian was built in 0.36s.\n",
      "@> 20 modes were calculated in 0.33s.\n",
      "@> 7109 atoms and 1 coordinate set(s) were parsed in 0.07s.\n",
      "@> Secondary structures were assigned to 565 residues.\n"
     ]
    },
    {
     "name": "stdout",
     "output_type": "stream",
     "text": [
      "[2, 630, 631, 889]\n",
      "629 630\n"
     ]
    },
    {
     "name": "stderr",
     "output_type": "stream",
     "text": [
      "@> Hessian was built in 0.73s.\n",
      "@> 20 modes were calculated in 1.57s.\n",
      "@> 4500 atoms and 1 coordinate set(s) were parsed in 0.05s.\n",
      "@> Secondary structures were assigned to 352 residues.\n"
     ]
    },
    {
     "name": "stdout",
     "output_type": "stream",
     "text": [
      "[1, 348, 349, 500]\n",
      "348 349\n"
     ]
    },
    {
     "name": "stderr",
     "output_type": "stream",
     "text": [
      "@> Hessian was built in 0.34s.\n",
      "@> 20 modes were calculated in 0.20s.\n",
      "@> 2387 atoms and 1 coordinate set(s) were parsed in 0.02s.\n",
      "@> Secondary structures were assigned to 191 residues.\n"
     ]
    },
    {
     "name": "stdout",
     "output_type": "stream",
     "text": [
      "[7, 151, 152, 301]\n",
      "145 146\n"
     ]
    },
    {
     "name": "stderr",
     "output_type": "stream",
     "text": [
      "@> Hessian was built in 0.19s.\n",
      "@> 20 modes were calculated in 0.07s.\n",
      "@> 5127 atoms and 1 coordinate set(s) were parsed in 0.05s.\n",
      "@> Secondary structures were assigned to 408 residues.\n"
     ]
    },
    {
     "name": "stdout",
     "output_type": "stream",
     "text": [
      "[8, 391, 392, 607]\n",
      "384 385\n"
     ]
    },
    {
     "name": "stderr",
     "output_type": "stream",
     "text": [
      "@> Hessian was built in 0.43s.\n",
      "@> 20 modes were calculated in 0.34s.\n",
      "@> 2470 atoms and 1 coordinate set(s) were parsed in 0.03s.\n",
      "@> Secondary structures were assigned to 246 residues.\n"
     ]
    },
    {
     "name": "stdout",
     "output_type": "stream",
     "text": [
      "[11, 208, 209, 306]\n",
      "198 199\n"
     ]
    },
    {
     "name": "stderr",
     "output_type": "stream",
     "text": [
      "@> Hessian was built in 0.17s.\n",
      "@> 20 modes were calculated in 0.07s.\n",
      "@> 2315 atoms and 1 coordinate set(s) were parsed in 0.02s.\n",
      "@> Secondary structures were assigned to 227 residues.\n",
      "@> Hessian was built in 0.15s.\n"
     ]
    },
    {
     "name": "stdout",
     "output_type": "stream",
     "text": [
      "[123, 294, 295, 440]\n",
      "172 173\n"
     ]
    },
    {
     "name": "stderr",
     "output_type": "stream",
     "text": [
      "@> 20 modes were calculated in 0.06s.\n",
      "@> 4959 atoms and 1 coordinate set(s) were parsed in 0.05s.\n",
      "@> Secondary structures were assigned to 306 residues.\n"
     ]
    },
    {
     "name": "stdout",
     "output_type": "stream",
     "text": [
      "[58, 273, 274, 613]\n",
      "216 217\n"
     ]
    },
    {
     "name": "stderr",
     "output_type": "stream",
     "text": [
      "@> Hessian was built in 0.40s.\n",
      "@> 20 modes were calculated in 0.25s.\n",
      "@> 1620 atoms and 1 coordinate set(s) were parsed in 0.02s.\n",
      "@> Secondary structures were assigned to 124 residues.\n",
      "@> Hessian was built in 0.10s.\n",
      "@> 20 modes were calculated in 0.05s.\n"
     ]
    },
    {
     "name": "stdout",
     "output_type": "stream",
     "text": [
      "[1, 100, 101, 195]\n",
      "100 101\n"
     ]
    },
    {
     "name": "stderr",
     "output_type": "stream",
     "text": [
      "@> 4119 atoms and 1 coordinate set(s) were parsed in 0.04s.\n",
      "@> Secondary structures were assigned to 287 residues.\n"
     ]
    },
    {
     "name": "stdout",
     "output_type": "stream",
     "text": [
      "[2, 217, 218, 431]\n",
      "216 217\n"
     ]
    },
    {
     "name": "stderr",
     "output_type": "stream",
     "text": [
      "@> Hessian was built in 0.27s.\n",
      "@> 20 modes were calculated in 0.14s.\n",
      "@> 3289 atoms and 1 coordinate set(s) were parsed in 0.03s.\n",
      "@> Secondary structures were assigned to 198 residues.\n"
     ]
    },
    {
     "name": "stdout",
     "output_type": "stream",
     "text": [
      "[2, 190, 191, 339]\n",
      "189 190\n"
     ]
    },
    {
     "name": "stderr",
     "output_type": "stream",
     "text": [
      "@> Hessian was built in 0.20s.\n",
      "@> 20 modes were calculated in 0.08s.\n",
      "@> 4536 atoms and 1 coordinate set(s) were parsed in 0.05s.\n",
      "@> Secondary structures were assigned to 346 residues.\n"
     ]
    },
    {
     "name": "stdout",
     "output_type": "stream",
     "text": [
      "[827, 1160, 1168, 1412]\n",
      "334 342\n"
     ]
    },
    {
     "name": "stderr",
     "output_type": "stream",
     "text": [
      "@> Hessian was built in 0.38s.\n",
      "@> 20 modes were calculated in 0.28s.\n",
      "@> 2814 atoms and 1 coordinate set(s) were parsed in 0.03s.\n",
      "@> Secondary structures were assigned to 252 residues.\n"
     ]
    },
    {
     "name": "stdout",
     "output_type": "stream",
     "text": [
      "[20, 231, 232, 354]\n",
      "212 213\n"
     ]
    },
    {
     "name": "stderr",
     "output_type": "stream",
     "text": [
      "@> Hessian was built in 0.24s.\n",
      "@> 20 modes were calculated in 0.08s.\n",
      "@> 3995 atoms and 1 coordinate set(s) were parsed in 0.04s.\n",
      "@> Secondary structures were assigned to 220 residues.\n"
     ]
    },
    {
     "name": "stdout",
     "output_type": "stream",
     "text": [
      "[868, 1088, 1089, 1298]\n",
      "221 222\n"
     ]
    },
    {
     "name": "stderr",
     "output_type": "stream",
     "text": [
      "@> Hessian was built in 0.28s.\n",
      "@> 20 modes were calculated in 0.13s.\n",
      "@> 5103 atoms and 1 coordinate set(s) were parsed in 0.06s.\n",
      "@> Secondary structures were assigned to 352 residues.\n"
     ]
    },
    {
     "name": "stdout",
     "output_type": "stream",
     "text": [
      "[35, 425, 426, 589]\n",
      "391 392\n"
     ]
    },
    {
     "name": "stderr",
     "output_type": "stream",
     "text": [
      "@> Hessian was built in 0.42s.\n",
      "@> 20 modes were calculated in 0.28s.\n",
      "@> 3531 atoms and 1 coordinate set(s) were parsed in 0.04s.\n",
      "@> Secondary structures were assigned to 240 residues.\n"
     ]
    },
    {
     "name": "stdout",
     "output_type": "stream",
     "text": [
      "[28, 216, 217, 420]\n",
      "189 190\n"
     ]
    },
    {
     "name": "stderr",
     "output_type": "stream",
     "text": [
      "@> Hessian was built in 0.25s.\n",
      "@> 20 modes were calculated in 0.11s.\n",
      "@> 2603 atoms and 1 coordinate set(s) were parsed in 0.03s.\n",
      "@> Secondary structures were assigned to 226 residues.\n"
     ]
    },
    {
     "name": "stdout",
     "output_type": "stream",
     "text": [
      "[188, 284, 285, 495]\n",
      "97 98\n"
     ]
    },
    {
     "name": "stderr",
     "output_type": "stream",
     "text": [
      "@> Hessian was built in 0.20s.\n",
      "@> 20 modes were calculated in 0.07s.\n",
      "@> 2238 atoms and 1 coordinate set(s) were parsed in 0.02s.\n",
      "@> Secondary structures were assigned to 181 residues.\n"
     ]
    },
    {
     "name": "stdout",
     "output_type": "stream",
     "text": [
      "[7, 127, 128, 293]\n",
      "121 122\n"
     ]
    },
    {
     "name": "stderr",
     "output_type": "stream",
     "text": [
      "@> Hessian was built in 0.18s.\n",
      "@> 20 modes were calculated in 0.06s.\n",
      "@> 2133 atoms and 1 coordinate set(s) were parsed in 0.02s.\n",
      "@> Secondary structures were assigned to 136 residues.\n",
      "@> Hessian was built in 0.13s.\n"
     ]
    },
    {
     "name": "stdout",
     "output_type": "stream",
     "text": [
      "[1, 122, 123, 278]\n",
      "122 123\n"
     ]
    },
    {
     "name": "stderr",
     "output_type": "stream",
     "text": [
      "@> 20 modes were calculated in 0.05s.\n",
      "@> 5783 atoms and 1 coordinate set(s) were parsed in 0.06s.\n",
      "@> Secondary structures were assigned to 285 residues.\n"
     ]
    },
    {
     "name": "stdout",
     "output_type": "stream",
     "text": [
      "[3, 422, 423, 755]\n",
      "420 421\n"
     ]
    },
    {
     "name": "stderr",
     "output_type": "stream",
     "text": [
      "@> Hessian was built in 0.62s.\n",
      "@> 20 modes were calculated in 0.90s.\n",
      "@> 1342 atoms and 1 coordinate set(s) were parsed in 0.01s.\n",
      "@> Secondary structures were assigned to 117 residues.\n",
      "@> Hessian was built in 0.10s.\n",
      "@> 20 modes were calculated in 0.04s.\n"
     ]
    },
    {
     "name": "stdout",
     "output_type": "stream",
     "text": [
      "[13, 96, 97, 180]\n",
      "84 85\n"
     ]
    },
    {
     "name": "stderr",
     "output_type": "stream",
     "text": [
      "@> 2751 atoms and 1 coordinate set(s) were parsed in 0.03s.\n",
      "@> Secondary structures were assigned to 240 residues.\n"
     ]
    },
    {
     "name": "stdout",
     "output_type": "stream",
     "text": [
      "[178, 321, 322, 532]\n",
      "144 145\n"
     ]
    },
    {
     "name": "stderr",
     "output_type": "stream",
     "text": [
      "@> Hessian was built in 0.22s.\n",
      "@> 20 modes were calculated in 0.09s.\n",
      "@> 3900 atoms and 1 coordinate set(s) were parsed in 0.05s.\n",
      "@> Secondary structures were assigned to 369 residues.\n"
     ]
    },
    {
     "name": "stdout",
     "output_type": "stream",
     "text": [
      "[88, 261, 262, 610]\n",
      "174 175\n"
     ]
    },
    {
     "name": "stderr",
     "output_type": "stream",
     "text": [
      "@> Hessian was built in 0.31s.\n",
      "@> 20 modes were calculated in 0.16s.\n",
      "@> 1997 atoms and 1 coordinate set(s) were parsed in 0.02s.\n",
      "@> Secondary structures were assigned to 174 residues.\n",
      "@> Hessian was built in 0.15s.\n"
     ]
    },
    {
     "name": "stdout",
     "output_type": "stream",
     "text": [
      "[1, 126, 127, 254]\n",
      "126 127\n"
     ]
    },
    {
     "name": "stderr",
     "output_type": "stream",
     "text": [
      "@> 20 modes were calculated in 0.06s.\n",
      "@> 3560 atoms and 1 coordinate set(s) were parsed in 0.04s.\n",
      "@> Secondary structures were assigned to 214 residues.\n"
     ]
    },
    {
     "name": "stdout",
     "output_type": "stream",
     "text": [
      "[868, 1085, 1086, 1278]\n",
      "218 219\n"
     ]
    },
    {
     "name": "stderr",
     "output_type": "stream",
     "text": [
      "@> Hessian was built in 0.27s.\n",
      "@> 20 modes were calculated in 0.12s.\n",
      "@> 2845 atoms and 1 coordinate set(s) were parsed in 0.03s.\n",
      "@> Secondary structures were assigned to 244 residues.\n"
     ]
    },
    {
     "name": "stdout",
     "output_type": "stream",
     "text": [
      "[1, 194, 195, 329]\n",
      "194 195\n"
     ]
    },
    {
     "name": "stderr",
     "output_type": "stream",
     "text": [
      "@> Hessian was built in 0.22s.\n",
      "@> 20 modes were calculated in 0.08s.\n",
      "@> 2832 atoms and 1 coordinate set(s) were parsed in 0.03s.\n",
      "@> Secondary structures were assigned to 221 residues.\n"
     ]
    },
    {
     "name": "stdout",
     "output_type": "stream",
     "text": [
      "[4, 180, 181, 305]\n",
      "177 178\n"
     ]
    },
    {
     "name": "stderr",
     "output_type": "stream",
     "text": [
      "@> Hessian was built in 0.18s.\n",
      "@> 20 modes were calculated in 0.07s.\n",
      "@> 2890 atoms and 1 coordinate set(s) were parsed in 0.03s.\n",
      "@> Secondary structures were assigned to 238 residues.\n"
     ]
    },
    {
     "name": "stdout",
     "output_type": "stream",
     "text": [
      "[59, 260, 261, 422]\n",
      "202 203\n"
     ]
    },
    {
     "name": "stderr",
     "output_type": "stream",
     "text": [
      "@> Hessian was built in 0.22s.\n",
      "@> 20 modes were calculated in 0.09s.\n",
      "@> 3135 atoms and 1 coordinate set(s) were parsed in 0.04s.\n",
      "@> Secondary structures were assigned to 235 residues.\n"
     ]
    },
    {
     "name": "stdout",
     "output_type": "stream",
     "text": [
      "[3, 262, 263, 357]\n",
      "260 261\n"
     ]
    },
    {
     "name": "stderr",
     "output_type": "stream",
     "text": [
      "@> Hessian was built in 0.24s.\n",
      "@> 20 modes were calculated in 0.09s.\n",
      "@> 3632 atoms and 1 coordinate set(s) were parsed in 0.04s.\n",
      "@> Secondary structures were assigned to 239 residues.\n"
     ]
    },
    {
     "name": "stdout",
     "output_type": "stream",
     "text": [
      "[863, 1076, 1077, 1284]\n",
      "214 215\n"
     ]
    },
    {
     "name": "stderr",
     "output_type": "stream",
     "text": [
      "@> Hessian was built in 0.28s.\n",
      "@> 20 modes were calculated in 0.12s.\n",
      "@> 1957 atoms and 1 coordinate set(s) were parsed in 0.02s.\n",
      "@> Secondary structures were assigned to 164 residues.\n",
      "@> Hessian was built in 0.14s.\n"
     ]
    },
    {
     "name": "stdout",
     "output_type": "stream",
     "text": [
      "[171, 293, 294, 416]\n",
      "123 124\n"
     ]
    },
    {
     "name": "stderr",
     "output_type": "stream",
     "text": [
      "@> 20 modes were calculated in 0.05s.\n",
      "@> 2813 atoms and 1 coordinate set(s) were parsed in 0.04s.\n",
      "@> Secondary structures were assigned to 195 residues.\n"
     ]
    },
    {
     "name": "stdout",
     "output_type": "stream",
     "text": [
      "[1, 154, 173, 318]\n",
      "154 173\n"
     ]
    },
    {
     "name": "stderr",
     "output_type": "stream",
     "text": [
      "@> Hessian was built in 0.19s.\n",
      "@> 20 modes were calculated in 0.07s.\n",
      "@> 3411 atoms and 1 coordinate set(s) were parsed in 0.04s.\n",
      "@> Secondary structures were assigned to 275 residues.\n"
     ]
    },
    {
     "name": "stdout",
     "output_type": "stream",
     "text": [
      "[1, 167, 168, 388]\n",
      "167 168\n"
     ]
    },
    {
     "name": "stderr",
     "output_type": "stream",
     "text": [
      "@> Hessian was built in 0.28s.\n",
      "@> 20 modes were calculated in 0.11s.\n",
      "@> 5941 atoms and 1 coordinate set(s) were parsed in 0.07s.\n",
      "@> Secondary structures were assigned to 360 residues.\n"
     ]
    },
    {
     "name": "stdout",
     "output_type": "stream",
     "text": [
      "[15, 225, 226, 735]\n",
      "211 212\n"
     ]
    },
    {
     "name": "stderr",
     "output_type": "stream",
     "text": [
      "@> Hessian was built in 0.50s.\n",
      "@> 20 modes were calculated in 0.68s.\n",
      "@> 1029 atoms and 1 coordinate set(s) were parsed in 0.01s.\n",
      "@> Secondary structures were assigned to 82 residues.\n",
      "@> Hessian was built in 0.06s.\n",
      "@> 20 modes were calculated in 0.01s.\n"
     ]
    },
    {
     "name": "stdout",
     "output_type": "stream",
     "text": [
      "[3, 65, 66, 131]\n",
      "63 64\n"
     ]
    },
    {
     "name": "stderr",
     "output_type": "stream",
     "text": [
      "@> 2788 atoms and 1 coordinate set(s) were parsed in 0.04s.\n",
      "@> Secondary structures were assigned to 310 residues.\n"
     ]
    },
    {
     "name": "stdout",
     "output_type": "stream",
     "text": [
      "[38, 322, 323, 390]\n",
      "285 286\n"
     ]
    },
    {
     "name": "stderr",
     "output_type": "stream",
     "text": [
      "@> Hessian was built in 0.21s.\n",
      "@> 20 modes were calculated in 0.09s.\n",
      "@> 3266 atoms and 1 coordinate set(s) were parsed in 0.03s.\n",
      "@> Secondary structures were assigned to 292 residues.\n"
     ]
    },
    {
     "name": "stdout",
     "output_type": "stream",
     "text": [
      "[7, 199, 200, 392]\n",
      "193 194\n"
     ]
    },
    {
     "name": "stderr",
     "output_type": "stream",
     "text": [
      "@> Hessian was built in 0.25s.\n",
      "@> 20 modes were calculated in 0.11s.\n",
      "@> 1864 atoms and 1 coordinate set(s) were parsed in 0.02s.\n",
      "@> Secondary structures were assigned to 121 residues.\n",
      "@> Hessian was built in 0.11s.\n",
      "@> 20 modes were calculated in 0.04s.\n"
     ]
    },
    {
     "name": "stdout",
     "output_type": "stream",
     "text": [
      "[2, 100, 101, 207]\n",
      "99 100\n"
     ]
    },
    {
     "name": "stderr",
     "output_type": "stream",
     "text": [
      "@> 4547 atoms and 1 coordinate set(s) were parsed in 0.04s.\n",
      "@> Secondary structures were assigned to 435 residues.\n"
     ]
    },
    {
     "name": "stdout",
     "output_type": "stream",
     "text": [
      "[17, 218, 219, 546]\n",
      "202 203\n"
     ]
    },
    {
     "name": "stderr",
     "output_type": "stream",
     "text": [
      "@> Hessian was built in 0.34s.\n",
      "@> 20 modes were calculated in 0.23s.\n",
      "@> 2438 atoms and 1 coordinate set(s) were parsed in 0.03s.\n",
      "@> Secondary structures were assigned to 165 residues.\n"
     ]
    },
    {
     "name": "stdout",
     "output_type": "stream",
     "text": [
      "[1, 154, 155, 317]\n",
      "154 155\n"
     ]
    },
    {
     "name": "stderr",
     "output_type": "stream",
     "text": [
      "@> Hessian was built in 0.18s.\n",
      "@> 20 modes were calculated in 0.06s.\n",
      "@> 4378 atoms and 1 coordinate set(s) were parsed in 0.06s.\n",
      "@> Secondary structures were assigned to 342 residues.\n"
     ]
    },
    {
     "name": "stdout",
     "output_type": "stream",
     "text": [
      "[2, 230, 231, 588]\n",
      "229 230\n"
     ]
    },
    {
     "name": "stderr",
     "output_type": "stream",
     "text": [
      "@> Hessian was built in 0.32s.\n",
      "@> 20 modes were calculated in 0.16s.\n",
      "@> 3207 atoms and 1 coordinate set(s) were parsed in 0.04s.\n",
      "@> Secondary structures were assigned to 114 residues.\n",
      "@> Hessian was built in 0.11s.\n",
      "@> 20 modes were calculated in 0.04s.\n"
     ]
    },
    {
     "name": "stdout",
     "output_type": "stream",
     "text": [
      "[1, 90, 91, 203]\n",
      "90 91\n"
     ]
    },
    {
     "name": "stderr",
     "output_type": "stream",
     "text": [
      "@> 1927 atoms and 1 coordinate set(s) were parsed in 0.02s.\n",
      "@> Secondary structures were assigned to 127 residues.\n",
      "@> Hessian was built in 0.11s.\n",
      "@> 20 modes were calculated in 0.04s.\n"
     ]
    },
    {
     "name": "stdout",
     "output_type": "stream",
     "text": [
      "[236, 339, 340, 444]\n",
      "104 105\n"
     ]
    },
    {
     "name": "stderr",
     "output_type": "stream",
     "text": [
      "@> 6779 atoms and 1 coordinate set(s) were parsed in 0.07s.\n",
      "@> Secondary structures were assigned to 294 residues.\n"
     ]
    },
    {
     "name": "stdout",
     "output_type": "stream",
     "text": [
      "[3, 416, 417, 741]\n",
      "414 415\n"
     ]
    },
    {
     "name": "stderr",
     "output_type": "stream",
     "text": [
      "@> Hessian was built in 0.61s.\n",
      "@> 20 modes were calculated in 0.84s.\n",
      "@> 3864 atoms and 1 coordinate set(s) were parsed in 0.05s.\n",
      "@> Secondary structures were assigned to 292 residues.\n"
     ]
    },
    {
     "name": "stdout",
     "output_type": "stream",
     "text": [
      "[38, 246, 247, 531]\n",
      "209 210\n"
     ]
    },
    {
     "name": "stderr",
     "output_type": "stream",
     "text": [
      "@> Hessian was built in 0.33s.\n",
      "@> 20 modes were calculated in 0.16s.\n",
      "@> 2657 atoms and 1 coordinate set(s) were parsed in 0.03s.\n",
      "@> Secondary structures were assigned to 267 residues.\n"
     ]
    },
    {
     "name": "stdout",
     "output_type": "stream",
     "text": [
      "[2, 183, 184, 328]\n",
      "182 183\n"
     ]
    },
    {
     "name": "stderr",
     "output_type": "stream",
     "text": [
      "@> Hessian was built in 0.19s.\n",
      "@> 20 modes were calculated in 0.08s.\n",
      "@> 4836 atoms and 1 coordinate set(s) were parsed in 0.06s.\n",
      "@> Secondary structures were assigned to 431 residues.\n"
     ]
    },
    {
     "name": "stdout",
     "output_type": "stream",
     "text": [
      "[13, 220, 221, 548]\n",
      "208 209\n"
     ]
    },
    {
     "name": "stderr",
     "output_type": "stream",
     "text": [
      "@> Hessian was built in 0.37s.\n",
      "@> 20 modes were calculated in 0.26s.\n",
      "@> 3921 atoms and 1 coordinate set(s) were parsed in 0.05s.\n",
      "@> Secondary structures were assigned to 204 residues.\n",
      "@> Hessian was built in 0.11s.\n"
     ]
    },
    {
     "name": "stdout",
     "output_type": "stream",
     "text": [
      "[7, 117, 118, 228]\n",
      "111 112\n"
     ]
    },
    {
     "name": "stderr",
     "output_type": "stream",
     "text": [
      "@> 20 modes were calculated in 0.04s.\n",
      "@> 5777 atoms and 1 coordinate set(s) were parsed in 0.07s.\n",
      "@> Secondary structures were assigned to 414 residues.\n"
     ]
    },
    {
     "name": "stdout",
     "output_type": "stream",
     "text": [
      "[7, 455, 456, 726]\n",
      "449 450\n"
     ]
    },
    {
     "name": "stderr",
     "output_type": "stream",
     "text": [
      "@> Hessian was built in 0.50s.\n",
      "@> 20 modes were calculated in 0.68s.\n",
      "@> 8048 atoms and 1 coordinate set(s) were parsed in 0.08s.\n",
      "@> Secondary structures were assigned to 303 residues.\n"
     ]
    },
    {
     "name": "stdout",
     "output_type": "stream",
     "text": [
      "[3, 205, 206, 491]\n",
      "203 204\n"
     ]
    },
    {
     "name": "stderr",
     "output_type": "stream",
     "text": [
      "@> Hessian was built in 0.31s.\n",
      "@> 20 modes were calculated in 0.16s.\n",
      "@> 4484 atoms and 1 coordinate set(s) were parsed in 0.05s.\n",
      "@> Secondary structures were assigned to 440 residues.\n"
     ]
    },
    {
     "name": "stdout",
     "output_type": "stream",
     "text": [
      "[61, 263, 264, 592]\n",
      "203 204\n"
     ]
    },
    {
     "name": "stderr",
     "output_type": "stream",
     "text": [
      "@> Hessian was built in 0.35s.\n",
      "@> 20 modes were calculated in 0.22s.\n",
      "@> 3311 atoms and 1 coordinate set(s) were parsed in 0.04s.\n",
      "@> Secondary structures were assigned to 233 residues.\n"
     ]
    },
    {
     "name": "stdout",
     "output_type": "stream",
     "text": [
      "[5, 174, 175, 398]\n",
      "170 171\n"
     ]
    },
    {
     "name": "stderr",
     "output_type": "stream",
     "text": [
      "@> Hessian was built in 0.23s.\n",
      "@> 20 modes were calculated in 0.10s.\n",
      "@> 2480 atoms and 1 coordinate set(s) were parsed in 0.03s.\n",
      "@> Secondary structures were assigned to 197 residues.\n"
     ]
    },
    {
     "name": "stdout",
     "output_type": "stream",
     "text": [
      "[5, 125, 126, 288]\n",
      "121 122\n"
     ]
    },
    {
     "name": "stderr",
     "output_type": "stream",
     "text": [
      "@> Hessian was built in 0.19s.\n",
      "@> 20 modes were calculated in 0.07s.\n"
     ]
    }
   ],
   "source": [
    "#obl +++++++++++++++++++++++++++++++++++++++++++++++++++++++++++++++++++++++++++++++++\n",
    "higher_corr_per_obl=[] #list of % of residues having high correlation (> cutoff) in proteins\n",
    "pdb_ids_obl=[] #list used to know the pdbs having high correlation and hence outlier\n",
    "all_corr_obl=[] #stores all correlation values of proteins\n",
    "\n",
    "for pdb in obl_pdbs:\n",
    "    pdb_ids_obl.append(pdb)\n",
    "        \n",
    "    #finding domain boundary\n",
    "    pdb_locs=find_pdb(pdb.lower(),data_lines)#gives the line numbers which contain this pdb id\n",
    "    dom_locs=[]#start and end positions of domains in that pdb\n",
    "    for i in pdb_locs:\n",
    "        dom_locs.append(dom_start(data_lines[i])[0][1])\n",
    "        dom_locs.append(dom_end(data_lines[i])[0][1])\n",
    "    dom_locs=sorted([int(i) for i in dom_locs]) #sorted domain locations and converting to int.\n",
    "    print(dom_locs)\n",
    "    h=(dom_locs[1]-dom_locs[0])+1 #height---vertical\n",
    "    w=(dom_locs[2]-dom_locs[0])+1 #width---horizontal\n",
    "    print(h,w)\n",
    "    \n",
    "    #ANM calculation-------------------------------\n",
    "    prot=parsePDB(pdb_dir+pdb+\".pdb\")\n",
    "    #print(pdb,prot.numResidues())#no. of residues\n",
    "    prot_ca=prot.select('calpha')\n",
    "    anm=ANM()\n",
    "    anm.buildHessian(prot_ca)\n",
    "    anm.calcModes()\n",
    "    cor=calcCrossCorr(anm)\n",
    "    dom_corr=[cor[i][j] for i in range(h) for j in range(w,len(cor))] #top right corner of matrix\n",
    "    higher_corr_per_obl.append((len([k for k in dom_corr if abs(k)>0.5])/len(dom_corr))*100) #% of residues with high correlation between dom1 and dom2\n",
    "    for z in dom_corr:\n",
    "        all_corr_obl.append(z)\n",
    "\n",
    "\n",
    "\n",
    "d_obl=dict(zip(pdb_ids_obl,higher_corr_per_obl)) #dictionary which store pdb id and its % of residues highly correlated\n",
    "d_obl_sort=sorted(d_obl.items(), key=lambda x: x[1], reverse=True) #sorting dict according to values\n"
   ]
  },
  {
   "cell_type": "code",
   "execution_count": 8,
   "id": "assisted-egypt",
   "metadata": {},
   "outputs": [
    {
     "name": "stderr",
     "output_type": "stream",
     "text": [
      "@> 2823 atoms and 1 coordinate set(s) were parsed in 0.03s.\n",
      "@> Secondary structures were assigned to 215 residues.\n"
     ]
    },
    {
     "name": "stdout",
     "output_type": "stream",
     "text": [
      "[2, 296, 297, 368]\n",
      "295 296\n"
     ]
    },
    {
     "name": "stderr",
     "output_type": "stream",
     "text": [
      "@> Hessian was built in 0.25s.\n",
      "@> 20 modes were calculated in 0.10s.\n",
      "@> 2370 atoms and 1 coordinate set(s) were parsed in 0.03s.\n",
      "@> Secondary structures were assigned to 198 residues.\n"
     ]
    },
    {
     "name": "stdout",
     "output_type": "stream",
     "text": [
      "[35, 141, 218, 415]\n",
      "107 184\n"
     ]
    },
    {
     "name": "stderr",
     "output_type": "stream",
     "text": [
      "@> Hessian was built in 0.18s.\n",
      "@> 20 modes were calculated in 0.08s.\n",
      "@> 4375 atoms and 1 coordinate set(s) were parsed in 0.05s.\n",
      "@> Secondary structures were assigned to 313 residues.\n"
     ]
    },
    {
     "name": "stdout",
     "output_type": "stream",
     "text": [
      "[2, 409, 410, 583]\n",
      "408 409\n"
     ]
    },
    {
     "name": "stderr",
     "output_type": "stream",
     "text": [
      "@> Hessian was built in 0.33s.\n",
      "@> 20 modes were calculated in 0.22s.\n",
      "@> 1638 atoms and 1 coordinate set(s) were parsed in 0.02s.\n",
      "@> Secondary structures were assigned to 126 residues.\n",
      "@> Hessian was built in 0.11s.\n",
      "@> 20 modes were calculated in 0.04s.\n"
     ]
    },
    {
     "name": "stdout",
     "output_type": "stream",
     "text": [
      "[85, 128, 130, 218]\n",
      "44 46\n"
     ]
    },
    {
     "name": "stderr",
     "output_type": "stream",
     "text": [
      "@> 5223 atoms and 1 coordinate set(s) were parsed in 0.05s.\n",
      "@> Secondary structures were assigned to 293 residues.\n"
     ]
    },
    {
     "name": "stdout",
     "output_type": "stream",
     "text": [
      "[208, 305, 306, 815]\n",
      "98 99\n"
     ]
    },
    {
     "name": "stderr",
     "output_type": "stream",
     "text": [
      "@> Hessian was built in 0.48s.\n",
      "@> 20 modes were calculated in 0.38s.\n",
      "@> 3230 atoms and 1 coordinate set(s) were parsed in 0.04s.\n",
      "@> Secondary structures were assigned to 244 residues.\n"
     ]
    },
    {
     "name": "stdout",
     "output_type": "stream",
     "text": [
      "[1, 288, 289, 405]\n",
      "288 289\n"
     ]
    },
    {
     "name": "stderr",
     "output_type": "stream",
     "text": [
      "@> Hessian was built in 0.26s.\n",
      "@> 20 modes were calculated in 0.11s.\n",
      "@> 2574 atoms and 1 coordinate set(s) were parsed in 0.03s.\n",
      "@> Secondary structures were assigned to 204 residues.\n"
     ]
    },
    {
     "name": "stdout",
     "output_type": "stream",
     "text": [
      "[33, 208, 209, 322]\n",
      "176 177\n"
     ]
    },
    {
     "name": "stderr",
     "output_type": "stream",
     "text": [
      "@> Hessian was built in 0.18s.\n",
      "@> 20 modes were calculated in 0.08s.\n",
      "@> 2680 atoms and 1 coordinate set(s) were parsed in 0.03s.\n",
      "@> Secondary structures were assigned to 206 residues.\n"
     ]
    },
    {
     "name": "stdout",
     "output_type": "stream",
     "text": [
      "[1, 136, 137, 295]\n",
      "136 137\n"
     ]
    },
    {
     "name": "stderr",
     "output_type": "stream",
     "text": [
      "@> Hessian was built in 0.17s.\n",
      "@> 20 modes were calculated in 0.08s.\n",
      "@> 2505 atoms and 1 coordinate set(s) were parsed in 0.03s.\n",
      "@> Secondary structures were assigned to 221 residues.\n"
     ]
    },
    {
     "name": "stdout",
     "output_type": "stream",
     "text": [
      "[328, 467, 468, 624]\n",
      "140 141\n"
     ]
    },
    {
     "name": "stderr",
     "output_type": "stream",
     "text": [
      "@> Hessian was built in 0.20s.\n",
      "@> 20 modes were calculated in 0.08s.\n",
      "@> 1525 atoms and 1 coordinate set(s) were parsed in 0.02s.\n",
      "@> Secondary structures were assigned to 95 residues.\n",
      "@> Hessian was built in 0.12s.\n",
      "@> 20 modes were calculated in 0.04s.\n"
     ]
    },
    {
     "name": "stdout",
     "output_type": "stream",
     "text": [
      "[3, 105, 106, 203]\n",
      "103 104\n"
     ]
    },
    {
     "name": "stderr",
     "output_type": "stream",
     "text": [
      "@> 3378 atoms and 1 coordinate set(s) were parsed in 0.04s.\n",
      "@> Secondary structures were assigned to 262 residues.\n"
     ]
    },
    {
     "name": "stdout",
     "output_type": "stream",
     "text": [
      "[15, 74, 75, 432]\n",
      "60 61\n"
     ]
    },
    {
     "name": "stderr",
     "output_type": "stream",
     "text": [
      "@> Hessian was built in 0.28s.\n",
      "@> 20 modes were calculated in 0.14s.\n",
      "@> 1452 atoms and 1 coordinate set(s) were parsed in 0.02s.\n",
      "@> Secondary structures were assigned to 81 residues.\n",
      "@> Hessian was built in 0.08s.\n",
      "@> 20 modes were calculated in 0.02s.\n"
     ]
    },
    {
     "name": "stdout",
     "output_type": "stream",
     "text": [
      "[7, 37, 51, 163]\n",
      "31 45\n"
     ]
    },
    {
     "name": "stderr",
     "output_type": "stream",
     "text": [
      "@> 4291 atoms and 1 coordinate set(s) were parsed in 0.05s.\n",
      "@> Secondary structures were assigned to 353 residues.\n"
     ]
    },
    {
     "name": "stdout",
     "output_type": "stream",
     "text": [
      "[5, 280, 281, 487]\n",
      "276 277\n"
     ]
    },
    {
     "name": "stderr",
     "output_type": "stream",
     "text": [
      "@> Hessian was built in 0.35s.\n",
      "@> 20 modes were calculated in 0.19s.\n",
      "@> 2416 atoms and 1 coordinate set(s) were parsed in 0.02s.\n",
      "@> Secondary structures were assigned to 155 residues.\n"
     ]
    },
    {
     "name": "stdout",
     "output_type": "stream",
     "text": [
      "[16, 113, 114, 272]\n",
      "98 99\n"
     ]
    },
    {
     "name": "stderr",
     "output_type": "stream",
     "text": [
      "@> Hessian was built in 0.16s.\n",
      "@> 20 modes were calculated in 0.08s.\n",
      "@> 4892 atoms and 1 coordinate set(s) were parsed in 0.05s.\n",
      "@> Secondary structures were assigned to 171 residues.\n"
     ]
    },
    {
     "name": "stdout",
     "output_type": "stream",
     "text": [
      "[2, 127, 128, 273]\n",
      "126 127\n"
     ]
    },
    {
     "name": "stderr",
     "output_type": "stream",
     "text": [
      "@> Hessian was built in 0.19s.\n",
      "@> 20 modes were calculated in 0.07s.\n",
      "@> 1603 atoms and 1 coordinate set(s) were parsed in 0.02s.\n",
      "@> Secondary structures were assigned to 108 residues.\n",
      "@> Hessian was built in 0.11s.\n",
      "@> 20 modes were calculated in 0.03s.\n"
     ]
    },
    {
     "name": "stdout",
     "output_type": "stream",
     "text": [
      "[1, 90, 91, 177]\n",
      "90 91\n"
     ]
    },
    {
     "name": "stderr",
     "output_type": "stream",
     "text": [
      "@> 6379 atoms and 1 coordinate set(s) were parsed in 0.06s.\n",
      "@> Secondary structures were assigned to 502 residues.\n"
     ]
    },
    {
     "name": "stdout",
     "output_type": "stream",
     "text": [
      "[1, 653, 654, 720]\n",
      "653 654\n"
     ]
    },
    {
     "name": "stderr",
     "output_type": "stream",
     "text": [
      "@> Hessian was built in 0.50s.\n",
      "@> 20 modes were calculated in 0.68s.\n",
      "@> 1619 atoms and 1 coordinate set(s) were parsed in 0.02s.\n",
      "@> Secondary structures were assigned to 108 residues.\n",
      "@> Hessian was built in 0.11s.\n",
      "@> 20 modes were calculated in 0.04s.\n"
     ]
    },
    {
     "name": "stdout",
     "output_type": "stream",
     "text": [
      "[34, 130, 131, 229]\n",
      "97 98\n"
     ]
    },
    {
     "name": "stderr",
     "output_type": "stream",
     "text": [
      "@> 1477 atoms and 1 coordinate set(s) were parsed in 0.02s.\n",
      "@> Secondary structures were assigned to 108 residues.\n",
      "@> Hessian was built in 0.10s.\n",
      "@> 20 modes were calculated in 0.04s.\n"
     ]
    },
    {
     "name": "stdout",
     "output_type": "stream",
     "text": [
      "[6, 103, 104, 181]\n",
      "98 99\n"
     ]
    },
    {
     "name": "stderr",
     "output_type": "stream",
     "text": [
      "@> 2174 atoms and 1 coordinate set(s) were parsed in 0.03s.\n",
      "@> Secondary structures were assigned to 159 residues.\n",
      "@> Hessian was built in 0.13s.\n"
     ]
    },
    {
     "name": "stdout",
     "output_type": "stream",
     "text": [
      "[3, 82, 83, 233]\n",
      "80 81\n"
     ]
    },
    {
     "name": "stderr",
     "output_type": "stream",
     "text": [
      "@> 20 modes were calculated in 0.05s.\n",
      "@> 2574 atoms and 1 coordinate set(s) were parsed in 0.03s.\n",
      "@> Secondary structures were assigned to 204 residues.\n"
     ]
    },
    {
     "name": "stdout",
     "output_type": "stream",
     "text": [
      "[33, 208, 209, 322]\n",
      "176 177\n"
     ]
    },
    {
     "name": "stderr",
     "output_type": "stream",
     "text": [
      "@> Hessian was built in 0.18s.\n",
      "@> 20 modes were calculated in 0.07s.\n",
      "@> 2286 atoms and 1 coordinate set(s) were parsed in 0.03s.\n",
      "@> Secondary structures were assigned to 200 residues.\n",
      "@> Hessian was built in 0.14s.\n"
     ]
    },
    {
     "name": "stdout",
     "output_type": "stream",
     "text": [
      "[1398, 1518, 1519, 1652]\n",
      "121 122\n"
     ]
    },
    {
     "name": "stderr",
     "output_type": "stream",
     "text": [
      "@> 20 modes were calculated in 0.06s.\n",
      "@> 4271 atoms and 1 coordinate set(s) were parsed in 0.04s.\n",
      "@> Secondary structures were assigned to 274 residues.\n"
     ]
    },
    {
     "name": "stdout",
     "output_type": "stream",
     "text": [
      "[4, 391, 392, 482]\n",
      "388 389\n"
     ]
    },
    {
     "name": "stderr",
     "output_type": "stream",
     "text": [
      "@> Hessian was built in 0.34s.\n",
      "@> 20 modes were calculated in 0.18s.\n",
      "@> 3329 atoms and 1 coordinate set(s) were parsed in 0.03s.\n",
      "@> Secondary structures were assigned to 266 residues.\n"
     ]
    },
    {
     "name": "stdout",
     "output_type": "stream",
     "text": [
      "[4, 146, 147, 371]\n",
      "143 144\n"
     ]
    },
    {
     "name": "stderr",
     "output_type": "stream",
     "text": [
      "@> Hessian was built in 0.24s.\n",
      "@> 20 modes were calculated in 0.12s.\n",
      "@> 1785 atoms and 1 coordinate set(s) were parsed in 0.02s.\n",
      "@> Secondary structures were assigned to 98 residues.\n",
      "@> Hessian was built in 0.13s.\n"
     ]
    },
    {
     "name": "stdout",
     "output_type": "stream",
     "text": [
      "[1, 83, 84, 213]\n",
      "83 84\n"
     ]
    },
    {
     "name": "stderr",
     "output_type": "stream",
     "text": [
      "@> 20 modes were calculated in 0.05s.\n",
      "@> 2134 atoms and 1 coordinate set(s) were parsed in 0.02s.\n",
      "@> Secondary structures were assigned to 171 residues.\n",
      "@> Hessian was built in 0.16s.\n"
     ]
    },
    {
     "name": "stdout",
     "output_type": "stream",
     "text": [
      "[1, 105, 106, 263]\n",
      "105 106\n"
     ]
    },
    {
     "name": "stderr",
     "output_type": "stream",
     "text": [
      "@> 20 modes were calculated in 0.06s.\n",
      "@> 3087 atoms and 1 coordinate set(s) were parsed in 0.03s.\n",
      "@> Secondary structures were assigned to 230 residues.\n"
     ]
    },
    {
     "name": "stdout",
     "output_type": "stream",
     "text": [
      "[1, 278, 279, 361]\n",
      "278 279\n"
     ]
    },
    {
     "name": "stderr",
     "output_type": "stream",
     "text": [
      "@> Hessian was built in 0.25s.\n",
      "@> 20 modes were calculated in 0.09s.\n",
      "@> 4521 atoms and 1 coordinate set(s) were parsed in 0.05s.\n",
      "@> Secondary structures were assigned to 338 residues.\n"
     ]
    },
    {
     "name": "stdout",
     "output_type": "stream",
     "text": [
      "[28, 329, 330, 534]\n",
      "302 303\n"
     ]
    },
    {
     "name": "stderr",
     "output_type": "stream",
     "text": [
      "@> Hessian was built in 0.38s.\n",
      "@> 20 modes were calculated in 0.22s.\n",
      "@> 4120 atoms and 1 coordinate set(s) were parsed in 0.04s.\n",
      "@> Secondary structures were assigned to 283 residues.\n"
     ]
    },
    {
     "name": "stdout",
     "output_type": "stream",
     "text": [
      "[963, 1232, 1233, 1397]\n",
      "270 271\n"
     ]
    },
    {
     "name": "stderr",
     "output_type": "stream",
     "text": [
      "@> Hessian was built in 0.28s.\n",
      "@> 20 modes were calculated in 0.15s.\n",
      "@> 3247 atoms and 1 coordinate set(s) were parsed in 0.03s.\n",
      "@> Secondary structures were assigned to 212 residues.\n"
     ]
    },
    {
     "name": "stdout",
     "output_type": "stream",
     "text": [
      "[226, 446, 447, 599]\n",
      "221 222\n"
     ]
    },
    {
     "name": "stderr",
     "output_type": "stream",
     "text": [
      "@> Hessian was built in 0.24s.\n",
      "@> 20 modes were calculated in 0.10s.\n",
      "@> 2696 atoms and 1 coordinate set(s) were parsed in 0.03s.\n",
      "@> Secondary structures were assigned to 249 residues.\n"
     ]
    },
    {
     "name": "stdout",
     "output_type": "stream",
     "text": [
      "[16, 304, 305, 388]\n",
      "289 290\n"
     ]
    },
    {
     "name": "stderr",
     "output_type": "stream",
     "text": [
      "@> Hessian was built in 0.19s.\n",
      "@> 20 modes were calculated in 0.09s.\n",
      "@> 2423 atoms and 1 coordinate set(s) were parsed in 0.03s.\n",
      "@> Secondary structures were assigned to 210 residues.\n"
     ]
    },
    {
     "name": "stdout",
     "output_type": "stream",
     "text": [
      "[1484, 1542, 1543, 1803]\n",
      "59 60\n"
     ]
    },
    {
     "name": "stderr",
     "output_type": "stream",
     "text": [
      "@> Hessian was built in 0.18s.\n",
      "@> 20 modes were calculated in 0.08s.\n",
      "@> 3457 atoms and 1 coordinate set(s) were parsed in 0.04s.\n",
      "@> Secondary structures were assigned to 260 residues.\n"
     ]
    },
    {
     "name": "stdout",
     "output_type": "stream",
     "text": [
      "[187, 325, 326, 630]\n",
      "139 140\n"
     ]
    },
    {
     "name": "stderr",
     "output_type": "stream",
     "text": [
      "@> Hessian was built in 0.30s.\n",
      "@> 20 modes were calculated in 0.14s.\n",
      "@> 2366 atoms and 1 coordinate set(s) were parsed in 0.03s.\n",
      "@> Secondary structures were assigned to 136 residues.\n"
     ]
    },
    {
     "name": "stdout",
     "output_type": "stream",
     "text": [
      "[1, 128, 129, 257]\n",
      "128 129\n"
     ]
    },
    {
     "name": "stderr",
     "output_type": "stream",
     "text": [
      "@> Hessian was built in 0.17s.\n",
      "@> 20 modes were calculated in 0.06s.\n",
      "@> 2532 atoms and 1 coordinate set(s) were parsed in 0.03s.\n",
      "@> Secondary structures were assigned to 220 residues.\n"
     ]
    },
    {
     "name": "stdout",
     "output_type": "stream",
     "text": [
      "[1, 167, 168, 291]\n",
      "167 168\n"
     ]
    },
    {
     "name": "stderr",
     "output_type": "stream",
     "text": [
      "@> Hessian was built in 0.19s.\n",
      "@> 20 modes were calculated in 0.07s.\n",
      "@> 5854 atoms and 1 coordinate set(s) were parsed in 0.07s.\n",
      "@> Secondary structures were assigned to 278 residues.\n"
     ]
    },
    {
     "name": "stdout",
     "output_type": "stream",
     "text": [
      "[1, 138, 139, 429]\n",
      "138 139\n"
     ]
    },
    {
     "name": "stderr",
     "output_type": "stream",
     "text": [
      "@> Hessian was built in 0.31s.\n",
      "@> 20 modes were calculated in 0.13s.\n",
      "@> 2174 atoms and 1 coordinate set(s) were parsed in 0.03s.\n",
      "@> Secondary structures were assigned to 159 residues.\n",
      "@> Hessian was built in 0.13s.\n"
     ]
    },
    {
     "name": "stdout",
     "output_type": "stream",
     "text": [
      "[3, 82, 83, 233]\n",
      "80 81\n"
     ]
    },
    {
     "name": "stderr",
     "output_type": "stream",
     "text": [
      "@> 20 modes were calculated in 0.05s.\n",
      "@> 2505 atoms and 1 coordinate set(s) were parsed in 0.03s.\n",
      "@> Secondary structures were assigned to 221 residues.\n"
     ]
    },
    {
     "name": "stdout",
     "output_type": "stream",
     "text": [
      "[328, 467, 468, 624]\n",
      "140 141\n"
     ]
    },
    {
     "name": "stderr",
     "output_type": "stream",
     "text": [
      "@> Hessian was built in 0.18s.\n",
      "@> 20 modes were calculated in 0.06s.\n",
      "@> 1638 atoms and 1 coordinate set(s) were parsed in 0.02s.\n",
      "@> Secondary structures were assigned to 126 residues.\n",
      "@> Hessian was built in 0.11s.\n",
      "@> 20 modes were calculated in 0.03s.\n"
     ]
    },
    {
     "name": "stdout",
     "output_type": "stream",
     "text": [
      "[85, 128, 130, 218]\n",
      "44 46\n"
     ]
    },
    {
     "name": "stderr",
     "output_type": "stream",
     "text": [
      "@> 5038 atoms and 1 coordinate set(s) were parsed in 0.05s.\n",
      "@> Secondary structures were assigned to 264 residues.\n"
     ]
    },
    {
     "name": "stdout",
     "output_type": "stream",
     "text": [
      "[20, 372, 373, 536]\n",
      "353 354\n"
     ]
    },
    {
     "name": "stderr",
     "output_type": "stream",
     "text": [
      "@> Hessian was built in 0.39s.\n",
      "@> 20 modes were calculated in 0.23s.\n",
      "@> 1419 atoms and 1 coordinate set(s) were parsed in 0.02s.\n",
      "@> Secondary structures were assigned to 101 residues.\n",
      "@> Hessian was built in 0.07s.\n",
      "@> 20 modes were calculated in 0.03s.\n"
     ]
    },
    {
     "name": "stdout",
     "output_type": "stream",
     "text": [
      "[1, 64, 65, 151]\n",
      "64 65\n"
     ]
    },
    {
     "name": "stderr",
     "output_type": "stream",
     "text": [
      "@> 3808 atoms and 1 coordinate set(s) were parsed in 0.04s.\n",
      "@> Secondary structures were assigned to 258 residues.\n"
     ]
    },
    {
     "name": "stdout",
     "output_type": "stream",
     "text": [
      "[4, 347, 348, 425]\n",
      "344 345\n"
     ]
    },
    {
     "name": "stderr",
     "output_type": "stream",
     "text": [
      "@> Hessian was built in 0.31s.\n",
      "@> 20 modes were calculated in 0.13s.\n",
      "@> 2680 atoms and 1 coordinate set(s) were parsed in 0.03s.\n",
      "@> Secondary structures were assigned to 206 residues.\n"
     ]
    },
    {
     "name": "stdout",
     "output_type": "stream",
     "text": [
      "[1, 136, 137, 295]\n",
      "136 137\n"
     ]
    },
    {
     "name": "stderr",
     "output_type": "stream",
     "text": [
      "@> Hessian was built in 0.16s.\n",
      "@> 20 modes were calculated in 0.09s.\n",
      "@> 2576 atoms and 1 coordinate set(s) were parsed in 0.03s.\n",
      "@> Secondary structures were assigned to 207 residues.\n"
     ]
    },
    {
     "name": "stdout",
     "output_type": "stream",
     "text": [
      "[3, 180, 181, 298]\n",
      "178 179\n"
     ]
    },
    {
     "name": "stderr",
     "output_type": "stream",
     "text": [
      "@> Hessian was built in 0.20s.\n",
      "@> 20 modes were calculated in 0.07s.\n",
      "@> 1372 atoms and 1 coordinate set(s) were parsed in 0.02s.\n",
      "@> Secondary structures were assigned to 95 residues.\n",
      "@> Hessian was built in 0.10s.\n",
      "@> 20 modes were calculated in 0.03s.\n"
     ]
    },
    {
     "name": "stdout",
     "output_type": "stream",
     "text": [
      "[20, 106, 107, 187]\n",
      "87 88\n"
     ]
    },
    {
     "name": "stderr",
     "output_type": "stream",
     "text": [
      "@> 2999 atoms and 1 coordinate set(s) were parsed in 0.03s.\n",
      "@> Secondary structures were assigned to 209 residues.\n"
     ]
    },
    {
     "name": "stdout",
     "output_type": "stream",
     "text": [
      "[14, 159, 160, 367]\n",
      "146 147\n"
     ]
    },
    {
     "name": "stderr",
     "output_type": "stream",
     "text": [
      "@> Hessian was built in 0.24s.\n",
      "@> 20 modes were calculated in 0.09s.\n",
      "@> 3808 atoms and 1 coordinate set(s) were parsed in 0.04s.\n",
      "@> Secondary structures were assigned to 258 residues.\n"
     ]
    },
    {
     "name": "stdout",
     "output_type": "stream",
     "text": [
      "[4, 347, 348, 425]\n",
      "344 345\n"
     ]
    },
    {
     "name": "stderr",
     "output_type": "stream",
     "text": [
      "@> Hessian was built in 0.31s.\n",
      "@> 20 modes were calculated in 0.14s.\n",
      "@> 5704 atoms and 1 coordinate set(s) were parsed in 0.06s.\n",
      "@> Secondary structures were assigned to 429 residues.\n"
     ]
    },
    {
     "name": "stdout",
     "output_type": "stream",
     "text": [
      "[1001, 1334, 1335, 1691]\n",
      "334 335\n"
     ]
    },
    {
     "name": "stderr",
     "output_type": "stream",
     "text": [
      "@> Hessian was built in 0.51s.\n",
      "@> 20 modes were calculated in 0.65s.\n",
      "@> 3335 atoms and 1 coordinate set(s) were parsed in 0.04s.\n",
      "@> Secondary structures were assigned to 260 residues.\n"
     ]
    },
    {
     "name": "stdout",
     "output_type": "stream",
     "text": [
      "[61, 231, 232, 571]\n",
      "171 172\n"
     ]
    },
    {
     "name": "stderr",
     "output_type": "stream",
     "text": [
      "@> Hessian was built in 0.31s.\n",
      "@> 20 modes were calculated in 0.13s.\n",
      "@> 1787 atoms and 1 coordinate set(s) were parsed in 0.02s.\n",
      "@> Secondary structures were assigned to 121 residues.\n",
      "@> Hessian was built in 0.13s.\n"
     ]
    },
    {
     "name": "stdout",
     "output_type": "stream",
     "text": [
      "[1, 87, 88, 216]\n",
      "87 88\n"
     ]
    },
    {
     "name": "stderr",
     "output_type": "stream",
     "text": [
      "@> 20 modes were calculated in 0.05s.\n",
      "@> 3224 atoms and 1 coordinate set(s) were parsed in 0.03s.\n",
      "@> Secondary structures were assigned to 228 residues.\n"
     ]
    },
    {
     "name": "stdout",
     "output_type": "stream",
     "text": [
      "[1, 246, 247, 337]\n",
      "246 247\n"
     ]
    },
    {
     "name": "stderr",
     "output_type": "stream",
     "text": [
      "@> Hessian was built in 0.22s.\n",
      "@> 20 modes were calculated in 0.09s.\n",
      "@> 2129 atoms and 1 coordinate set(s) were parsed in 0.02s.\n",
      "@> Secondary structures were assigned to 123 residues.\n",
      "@> Hessian was built in 0.14s.\n"
     ]
    },
    {
     "name": "stdout",
     "output_type": "stream",
     "text": [
      "[1, 120, 121, 239]\n",
      "120 121\n"
     ]
    },
    {
     "name": "stderr",
     "output_type": "stream",
     "text": [
      "@> 20 modes were calculated in 0.04s.\n",
      "@> 2823 atoms and 1 coordinate set(s) were parsed in 0.03s.\n",
      "@> Secondary structures were assigned to 215 residues.\n"
     ]
    },
    {
     "name": "stdout",
     "output_type": "stream",
     "text": [
      "[2, 296, 297, 368]\n",
      "295 296\n"
     ]
    },
    {
     "name": "stderr",
     "output_type": "stream",
     "text": [
      "@> Hessian was built in 0.24s.\n",
      "@> 20 modes were calculated in 0.09s.\n",
      "@> 5223 atoms and 1 coordinate set(s) were parsed in 0.05s.\n",
      "@> Secondary structures were assigned to 293 residues.\n"
     ]
    },
    {
     "name": "stdout",
     "output_type": "stream",
     "text": [
      "[208, 305, 306, 815]\n",
      "98 99\n"
     ]
    },
    {
     "name": "stderr",
     "output_type": "stream",
     "text": [
      "@> Hessian was built in 0.48s.\n",
      "@> 20 modes were calculated in 0.41s.\n",
      "@> 3111 atoms and 1 coordinate set(s) were parsed in 0.03s.\n",
      "@> Secondary structures were assigned to 200 residues.\n"
     ]
    },
    {
     "name": "stdout",
     "output_type": "stream",
     "text": [
      "[5, 174, 175, 344]\n",
      "170 171\n"
     ]
    },
    {
     "name": "stderr",
     "output_type": "stream",
     "text": [
      "@> Hessian was built in 0.22s.\n",
      "@> 20 modes were calculated in 0.10s.\n",
      "@> 8290 atoms and 1 coordinate set(s) were parsed in 0.10s.\n",
      "@> Secondary structures were assigned to 270 residues.\n"
     ]
    },
    {
     "name": "stdout",
     "output_type": "stream",
     "text": [
      "[1, 403, 404, 496]\n",
      "403 404\n"
     ]
    },
    {
     "name": "stderr",
     "output_type": "stream",
     "text": [
      "@> Hessian was built in 0.36s.\n",
      "@> 20 modes were calculated in 0.20s.\n",
      "@> 3844 atoms and 1 coordinate set(s) were parsed in 0.04s.\n",
      "@> Secondary structures were assigned to 275 residues.\n"
     ]
    },
    {
     "name": "stdout",
     "output_type": "stream",
     "text": [
      "[34, 330, 340, 490]\n",
      "297 307\n"
     ]
    },
    {
     "name": "stderr",
     "output_type": "stream",
     "text": [
      "@> Hessian was built in 0.33s.\n",
      "@> 20 modes were calculated in 0.15s.\n",
      "@> 3378 atoms and 1 coordinate set(s) were parsed in 0.04s.\n",
      "@> Secondary structures were assigned to 262 residues.\n"
     ]
    },
    {
     "name": "stdout",
     "output_type": "stream",
     "text": [
      "[15, 74, 75, 432]\n",
      "60 61\n"
     ]
    },
    {
     "name": "stderr",
     "output_type": "stream",
     "text": [
      "@> Hessian was built in 0.27s.\n",
      "@> 20 modes were calculated in 0.13s.\n",
      "@> 2903 atoms and 1 coordinate set(s) were parsed in 0.03s.\n",
      "@> Secondary structures were assigned to 171 residues.\n"
     ]
    },
    {
     "name": "stdout",
     "output_type": "stream",
     "text": [
      "[2, 240, 241, 349]\n",
      "239 240\n"
     ]
    },
    {
     "name": "stderr",
     "output_type": "stream",
     "text": [
      "@> Hessian was built in 0.20s.\n",
      "@> 20 modes were calculated in 0.08s.\n",
      "@> 1510 atoms and 1 coordinate set(s) were parsed in 0.02s.\n",
      "@> Secondary structures were assigned to 77 residues.\n",
      "@> Hessian was built in 0.08s.\n",
      "@> 20 modes were calculated in 0.02s.\n"
     ]
    },
    {
     "name": "stdout",
     "output_type": "stream",
     "text": [
      "[1, 118, 119, 157]\n",
      "118 119\n"
     ]
    },
    {
     "name": "stderr",
     "output_type": "stream",
     "text": [
      "@> 2784 atoms and 1 coordinate set(s) were parsed in 0.04s.\n",
      "@> Secondary structures were assigned to 222 residues.\n"
     ]
    },
    {
     "name": "stdout",
     "output_type": "stream",
     "text": [
      "[4, 94, 95, 309]\n",
      "91 92\n"
     ]
    },
    {
     "name": "stderr",
     "output_type": "stream",
     "text": [
      "@> Hessian was built in 0.18s.\n",
      "@> 20 modes were calculated in 0.08s.\n",
      "@> 3261 atoms and 1 coordinate set(s) were parsed in 0.03s.\n",
      "@> Secondary structures were assigned to 254 residues.\n"
     ]
    },
    {
     "name": "stdout",
     "output_type": "stream",
     "text": [
      "[46, 251, 252, 422]\n",
      "206 207\n"
     ]
    },
    {
     "name": "stderr",
     "output_type": "stream",
     "text": [
      "@> Hessian was built in 0.25s.\n",
      "@> 20 modes were calculated in 0.10s.\n",
      "@> 2048 atoms and 1 coordinate set(s) were parsed in 0.03s.\n",
      "@> Secondary structures were assigned to 129 residues.\n",
      "@> Hessian was built in 0.13s.\n"
     ]
    },
    {
     "name": "stdout",
     "output_type": "stream",
     "text": [
      "[3, 121, 131, 227]\n",
      "119 129\n"
     ]
    },
    {
     "name": "stderr",
     "output_type": "stream",
     "text": [
      "@> 20 modes were calculated in 0.05s.\n",
      "@> 1757 atoms and 1 coordinate set(s) were parsed in 0.02s.\n",
      "@> Secondary structures were assigned to 154 residues.\n",
      "@> Hessian was built in 0.12s.\n"
     ]
    },
    {
     "name": "stdout",
     "output_type": "stream",
     "text": [
      "[2, 86, 87, 212]\n",
      "85 86\n"
     ]
    },
    {
     "name": "stderr",
     "output_type": "stream",
     "text": [
      "@> 20 modes were calculated in 0.04s.\n",
      "@> 6415 atoms and 1 coordinate set(s) were parsed in 0.08s.\n",
      "@> Secondary structures were assigned to 519 residues.\n"
     ]
    },
    {
     "name": "stdout",
     "output_type": "stream",
     "text": [
      "[1, 403, 404, 767]\n",
      "403 404\n"
     ]
    },
    {
     "name": "stderr",
     "output_type": "stream",
     "text": [
      "@> Hessian was built in 0.58s.\n",
      "@> 20 modes were calculated in 0.94s.\n",
      "@> 2667 atoms and 1 coordinate set(s) were parsed in 0.03s.\n",
      "@> Secondary structures were assigned to 168 residues.\n"
     ]
    },
    {
     "name": "stdout",
     "output_type": "stream",
     "text": [
      "[4, 140, 141, 314]\n",
      "137 138\n"
     ]
    },
    {
     "name": "stderr",
     "output_type": "stream",
     "text": [
      "@> Hessian was built in 0.20s.\n",
      "@> 20 modes were calculated in 0.08s.\n",
      "@> 2505 atoms and 1 coordinate set(s) were parsed in 0.03s.\n",
      "@> Secondary structures were assigned to 221 residues.\n"
     ]
    },
    {
     "name": "stdout",
     "output_type": "stream",
     "text": [
      "[328, 467, 468, 624]\n",
      "140 141\n"
     ]
    },
    {
     "name": "stderr",
     "output_type": "stream",
     "text": [
      "@> Hessian was built in 0.18s.\n",
      "@> 20 modes were calculated in 0.07s.\n",
      "@> 1512 atoms and 1 coordinate set(s) were parsed in 0.02s.\n",
      "@> Secondary structures were assigned to 108 residues.\n",
      "@> Hessian was built in 0.10s.\n",
      "@> 20 modes were calculated in 0.03s.\n"
     ]
    },
    {
     "name": "stdout",
     "output_type": "stream",
     "text": [
      "[4, 104, 105, 182]\n",
      "101 102\n"
     ]
    },
    {
     "name": "stderr",
     "output_type": "stream",
     "text": [
      "@> 2784 atoms and 1 coordinate set(s) were parsed in 0.04s.\n",
      "@> Secondary structures were assigned to 222 residues.\n"
     ]
    },
    {
     "name": "stdout",
     "output_type": "stream",
     "text": [
      "[4, 94, 95, 309]\n",
      "91 92\n"
     ]
    },
    {
     "name": "stderr",
     "output_type": "stream",
     "text": [
      "@> Hessian was built in 0.18s.\n",
      "@> 20 modes were calculated in 0.08s.\n",
      "@> 2039 atoms and 1 coordinate set(s) were parsed in 0.03s.\n",
      "@> Secondary structures were assigned to 134 residues.\n",
      "@> Hessian was built in 0.14s.\n"
     ]
    },
    {
     "name": "stdout",
     "output_type": "stream",
     "text": [
      "[14, 86, 87, 234]\n",
      "73 74\n"
     ]
    },
    {
     "name": "stderr",
     "output_type": "stream",
     "text": [
      "@> 20 modes were calculated in 0.04s.\n",
      "@> 754 atoms and 1 coordinate set(s) were parsed in 0.01s.\n",
      "@> Secondary structures were assigned to 43 residues.\n",
      "@> Hessian was built in 0.05s.\n",
      "@> 20 modes were calculated in 0.01s.\n"
     ]
    },
    {
     "name": "stdout",
     "output_type": "stream",
     "text": [
      "[1, 45, 46, 86]\n",
      "45 46\n",
      "[19, 126, 127, 314]\n",
      "108 109\n"
     ]
    },
    {
     "name": "stderr",
     "output_type": "stream",
     "text": [
      "@> 2631 atoms and 1 coordinate set(s) were parsed in 0.04s.\n",
      "@> Secondary structures were assigned to 183 residues.\n",
      "@> Hessian was built in 0.19s.\n",
      "@> 20 modes were calculated in 0.08s.\n",
      "@> 4521 atoms and 1 coordinate set(s) were parsed in 0.05s.\n",
      "@> Secondary structures were assigned to 338 residues.\n"
     ]
    },
    {
     "name": "stdout",
     "output_type": "stream",
     "text": [
      "[28, 329, 330, 534]\n",
      "302 303\n"
     ]
    },
    {
     "name": "stderr",
     "output_type": "stream",
     "text": [
      "@> Hessian was built in 0.37s.\n",
      "@> 20 modes were calculated in 0.22s.\n",
      "@> 2903 atoms and 1 coordinate set(s) were parsed in 0.03s.\n",
      "@> Secondary structures were assigned to 171 residues.\n"
     ]
    },
    {
     "name": "stdout",
     "output_type": "stream",
     "text": [
      "[2, 240, 241, 349]\n",
      "239 240\n"
     ]
    },
    {
     "name": "stderr",
     "output_type": "stream",
     "text": [
      "@> Hessian was built in 0.20s.\n",
      "@> 20 modes were calculated in 0.08s.\n",
      "@> 4521 atoms and 1 coordinate set(s) were parsed in 0.05s.\n",
      "@> Secondary structures were assigned to 338 residues.\n"
     ]
    },
    {
     "name": "stdout",
     "output_type": "stream",
     "text": [
      "[28, 329, 330, 534]\n",
      "302 303\n"
     ]
    },
    {
     "name": "stderr",
     "output_type": "stream",
     "text": [
      "@> Hessian was built in 0.38s.\n",
      "@> 20 modes were calculated in 0.22s.\n",
      "@> 5948 atoms and 1 coordinate set(s) were parsed in 0.06s.\n",
      "@> Secondary structures were assigned to 412 residues.\n"
     ]
    },
    {
     "name": "stdout",
     "output_type": "stream",
     "text": [
      "[7, 417, 418, 690]\n",
      "411 412\n"
     ]
    },
    {
     "name": "stderr",
     "output_type": "stream",
     "text": [
      "@> Hessian was built in 0.47s.\n",
      "@> 20 modes were calculated in 0.55s.\n",
      "@> 2310 atoms and 1 coordinate set(s) were parsed in 0.02s.\n",
      "@> Secondary structures were assigned to 170 residues.\n"
     ]
    },
    {
     "name": "stdout",
     "output_type": "stream",
     "text": [
      "[3, 100, 111, 292]\n",
      "98 109\n"
     ]
    },
    {
     "name": "stderr",
     "output_type": "stream",
     "text": [
      "@> Hessian was built in 0.17s.\n",
      "@> 20 modes were calculated in 0.07s.\n",
      "@> 1915 atoms and 1 coordinate set(s) were parsed in 0.02s.\n",
      "@> Secondary structures were assigned to 142 residues.\n",
      "@> Hessian was built in 0.14s.\n"
     ]
    },
    {
     "name": "stdout",
     "output_type": "stream",
     "text": [
      "[371, 494, 507, 593]\n",
      "124 137\n"
     ]
    },
    {
     "name": "stderr",
     "output_type": "stream",
     "text": [
      "@> 20 modes were calculated in 0.04s.\n",
      "@> 3329 atoms and 1 coordinate set(s) were parsed in 0.03s.\n",
      "@> Secondary structures were assigned to 266 residues.\n"
     ]
    },
    {
     "name": "stdout",
     "output_type": "stream",
     "text": [
      "[4, 146, 147, 371]\n",
      "143 144\n"
     ]
    },
    {
     "name": "stderr",
     "output_type": "stream",
     "text": [
      "@> Hessian was built in 0.25s.\n",
      "@> 20 modes were calculated in 0.12s.\n",
      "@> 2129 atoms and 1 coordinate set(s) were parsed in 0.02s.\n",
      "@> Secondary structures were assigned to 123 residues.\n",
      "@> Hessian was built in 0.14s.\n"
     ]
    },
    {
     "name": "stdout",
     "output_type": "stream",
     "text": [
      "[1, 120, 121, 239]\n",
      "120 121\n"
     ]
    },
    {
     "name": "stderr",
     "output_type": "stream",
     "text": [
      "@> 20 modes were calculated in 0.05s.\n",
      "@> 2733 atoms and 1 coordinate set(s) were parsed in 0.04s.\n",
      "@> Secondary structures were assigned to 203 residues.\n"
     ]
    },
    {
     "name": "stdout",
     "output_type": "stream",
     "text": [
      "[10, 231, 232, 311]\n",
      "222 223\n"
     ]
    },
    {
     "name": "stderr",
     "output_type": "stream",
     "text": [
      "@> Hessian was built in 0.20s.\n",
      "@> 20 modes were calculated in 0.07s.\n",
      "@> 1969 atoms and 1 coordinate set(s) were parsed in 0.02s.\n",
      "@> Secondary structures were assigned to 91 residues.\n",
      "@> Hessian was built in 0.15s.\n"
     ]
    },
    {
     "name": "stdout",
     "output_type": "stream",
     "text": [
      "[4, 145, 146, 245]\n",
      "142 143\n"
     ]
    },
    {
     "name": "stderr",
     "output_type": "stream",
     "text": [
      "@> 20 modes were calculated in 0.05s.\n",
      "@> 3684 atoms and 1 coordinate set(s) were parsed in 0.05s.\n",
      "@> Secondary structures were assigned to 221 residues.\n"
     ]
    },
    {
     "name": "stdout",
     "output_type": "stream",
     "text": [
      "[1, 318, 319, 434]\n",
      "318 319\n"
     ]
    },
    {
     "name": "stderr",
     "output_type": "stream",
     "text": [
      "@> Hessian was built in 0.34s.\n",
      "@> 20 modes were calculated in 0.14s.\n",
      "@> 2656 atoms and 1 coordinate set(s) were parsed in 0.04s.\n",
      "@> Secondary structures were assigned to 230 residues.\n"
     ]
    },
    {
     "name": "stdout",
     "output_type": "stream",
     "text": [
      "[23, 259, 260, 338]\n",
      "237 238\n"
     ]
    },
    {
     "name": "stderr",
     "output_type": "stream",
     "text": [
      "@> Hessian was built in 0.19s.\n",
      "@> 20 modes were calculated in 0.11s.\n",
      "@> 6379 atoms and 1 coordinate set(s) were parsed in 0.06s.\n",
      "@> Secondary structures were assigned to 502 residues.\n"
     ]
    },
    {
     "name": "stdout",
     "output_type": "stream",
     "text": [
      "[1, 653, 654, 720]\n",
      "653 654\n"
     ]
    },
    {
     "name": "stderr",
     "output_type": "stream",
     "text": [
      "@> Hessian was built in 0.51s.\n",
      "@> 20 modes were calculated in 0.68s.\n",
      "@> 6238 atoms and 1 coordinate set(s) were parsed in 0.06s.\n",
      "@> Secondary structures were assigned to 342 residues.\n"
     ]
    },
    {
     "name": "stdout",
     "output_type": "stream",
     "text": [
      "[1, 573, 579, 675]\n",
      "573 579\n"
     ]
    },
    {
     "name": "stderr",
     "output_type": "stream",
     "text": [
      "@> Hessian was built in 0.54s.\n",
      "@> 20 modes were calculated in 0.55s.\n",
      "@> 2460 atoms and 1 coordinate set(s) were parsed in 0.03s.\n",
      "@> Secondary structures were assigned to 142 residues.\n"
     ]
    },
    {
     "name": "stdout",
     "output_type": "stream",
     "text": [
      "[1, 135, 136, 271]\n",
      "135 136\n"
     ]
    },
    {
     "name": "stderr",
     "output_type": "stream",
     "text": [
      "@> Hessian was built in 0.18s.\n",
      "@> 20 modes were calculated in 0.06s.\n",
      "@> 1510 atoms and 1 coordinate set(s) were parsed in 0.02s.\n",
      "@> Secondary structures were assigned to 77 residues.\n",
      "@> Hessian was built in 0.09s.\n",
      "@> 20 modes were calculated in 0.02s.\n"
     ]
    },
    {
     "name": "stdout",
     "output_type": "stream",
     "text": [
      "[1, 118, 119, 157]\n",
      "118 119\n"
     ]
    },
    {
     "name": "stderr",
     "output_type": "stream",
     "text": [
      "@> 2423 atoms and 1 coordinate set(s) were parsed in 0.03s.\n",
      "@> Secondary structures were assigned to 210 residues.\n"
     ]
    },
    {
     "name": "stdout",
     "output_type": "stream",
     "text": [
      "[1484, 1542, 1543, 1803]\n",
      "59 60\n"
     ]
    },
    {
     "name": "stderr",
     "output_type": "stream",
     "text": [
      "@> Hessian was built in 0.19s.\n",
      "@> 20 modes were calculated in 0.08s.\n",
      "@> 1883 atoms and 1 coordinate set(s) were parsed in 0.02s.\n",
      "@> Secondary structures were assigned to 123 residues.\n",
      "@> Hessian was built in 0.13s.\n"
     ]
    },
    {
     "name": "stdout",
     "output_type": "stream",
     "text": [
      "[1, 164, 165, 221]\n",
      "164 165\n"
     ]
    },
    {
     "name": "stderr",
     "output_type": "stream",
     "text": [
      "@> 20 modes were calculated in 0.04s.\n",
      "@> 2999 atoms and 1 coordinate set(s) were parsed in 0.03s.\n",
      "@> Secondary structures were assigned to 209 residues.\n"
     ]
    },
    {
     "name": "stdout",
     "output_type": "stream",
     "text": [
      "[14, 159, 160, 367]\n",
      "146 147\n"
     ]
    },
    {
     "name": "stderr",
     "output_type": "stream",
     "text": [
      "@> Hessian was built in 0.24s.\n",
      "@> 20 modes were calculated in 0.09s.\n",
      "@> 1757 atoms and 1 coordinate set(s) were parsed in 0.02s.\n",
      "@> Secondary structures were assigned to 154 residues.\n",
      "@> Hessian was built in 0.12s.\n"
     ]
    },
    {
     "name": "stdout",
     "output_type": "stream",
     "text": [
      "[2, 86, 87, 212]\n",
      "85 86\n"
     ]
    },
    {
     "name": "stderr",
     "output_type": "stream",
     "text": [
      "@> 20 modes were calculated in 0.04s.\n",
      "@> 4833 atoms and 1 coordinate set(s) were parsed in 0.06s.\n",
      "@> Secondary structures were assigned to 214 residues.\n"
     ]
    },
    {
     "name": "stdout",
     "output_type": "stream",
     "text": [
      "[1, 88, 89, 295]\n",
      "88 89\n"
     ]
    },
    {
     "name": "stderr",
     "output_type": "stream",
     "text": [
      "@> Hessian was built in 0.19s.\n",
      "@> 20 modes were calculated in 0.07s.\n",
      "@> 2337 atoms and 1 coordinate set(s) were parsed in 0.02s.\n",
      "@> Secondary structures were assigned to 191 residues.\n"
     ]
    },
    {
     "name": "stdout",
     "output_type": "stream",
     "text": [
      "[14, 157, 158, 267]\n",
      "144 145\n"
     ]
    },
    {
     "name": "stderr",
     "output_type": "stream",
     "text": [
      "@> Hessian was built in 0.16s.\n",
      "@> 20 modes were calculated in 0.06s.\n",
      "@> 2370 atoms and 1 coordinate set(s) were parsed in 0.02s.\n",
      "@> Secondary structures were assigned to 198 residues.\n"
     ]
    },
    {
     "name": "stdout",
     "output_type": "stream",
     "text": [
      "[35, 141, 218, 415]\n",
      "107 184\n"
     ]
    },
    {
     "name": "stderr",
     "output_type": "stream",
     "text": [
      "@> Hessian was built in 0.18s.\n",
      "@> 20 modes were calculated in 0.07s.\n",
      "@> 1603 atoms and 1 coordinate set(s) were parsed in 0.02s.\n",
      "@> Secondary structures were assigned to 108 residues.\n",
      "@> Hessian was built in 0.11s.\n",
      "@> 20 modes were calculated in 0.03s.\n"
     ]
    },
    {
     "name": "stdout",
     "output_type": "stream",
     "text": [
      "[1, 90, 91, 177]\n",
      "90 91\n"
     ]
    },
    {
     "name": "stderr",
     "output_type": "stream",
     "text": [
      "@> 2416 atoms and 1 coordinate set(s) were parsed in 0.02s.\n",
      "@> Secondary structures were assigned to 155 residues.\n"
     ]
    },
    {
     "name": "stdout",
     "output_type": "stream",
     "text": [
      "[16, 113, 114, 272]\n",
      "98 99\n"
     ]
    },
    {
     "name": "stderr",
     "output_type": "stream",
     "text": [
      "@> Hessian was built in 0.17s.\n",
      "@> 20 modes were calculated in 0.05s.\n",
      "@> 1419 atoms and 1 coordinate set(s) were parsed in 0.02s.\n",
      "@> Secondary structures were assigned to 101 residues.\n",
      "@> Hessian was built in 0.07s.\n",
      "@> 20 modes were calculated in 0.02s.\n"
     ]
    },
    {
     "name": "stdout",
     "output_type": "stream",
     "text": [
      "[1, 64, 65, 151]\n",
      "64 65\n"
     ]
    },
    {
     "name": "stderr",
     "output_type": "stream",
     "text": [
      "@> 4892 atoms and 1 coordinate set(s) were parsed in 0.05s.\n",
      "@> Secondary structures were assigned to 171 residues.\n"
     ]
    },
    {
     "name": "stdout",
     "output_type": "stream",
     "text": [
      "[2, 127, 128, 273]\n",
      "126 127\n"
     ]
    },
    {
     "name": "stderr",
     "output_type": "stream",
     "text": [
      "@> Hessian was built in 0.18s.\n",
      "@> 20 modes were calculated in 0.06s.\n",
      "@> 2611 atoms and 1 coordinate set(s) were parsed in 0.03s.\n",
      "@> Secondary structures were assigned to 195 residues.\n"
     ]
    },
    {
     "name": "stdout",
     "output_type": "stream",
     "text": [
      "[15, 208, 209, 317]\n",
      "194 195\n"
     ]
    },
    {
     "name": "stderr",
     "output_type": "stream",
     "text": [
      "@> Hessian was built in 0.20s.\n",
      "@> 20 modes were calculated in 0.07s.\n",
      "@> 3546 atoms and 1 coordinate set(s) were parsed in 0.04s.\n",
      "@> Secondary structures were assigned to 230 residues.\n"
     ]
    },
    {
     "name": "stdout",
     "output_type": "stream",
     "text": [
      "[2, 168, 169, 387]\n",
      "167 168\n"
     ]
    },
    {
     "name": "stderr",
     "output_type": "stream",
     "text": [
      "@> Hessian was built in 0.25s.\n",
      "@> 20 modes were calculated in 0.15s.\n",
      "@> 1512 atoms and 1 coordinate set(s) were parsed in 0.02s.\n",
      "@> Secondary structures were assigned to 108 residues.\n",
      "@> Hessian was built in 0.09s.\n",
      "@> 20 modes were calculated in 0.03s.\n"
     ]
    },
    {
     "name": "stdout",
     "output_type": "stream",
     "text": [
      "[4, 104, 105, 182]\n",
      "101 102\n"
     ]
    },
    {
     "name": "stderr",
     "output_type": "stream",
     "text": [
      "@> 1340 atoms and 1 coordinate set(s) were parsed in 0.01s.\n",
      "@> Secondary structures were assigned to 137 residues.\n",
      "@> Hessian was built in 0.10s.\n",
      "@> 20 modes were calculated in 0.03s.\n"
     ]
    },
    {
     "name": "stdout",
     "output_type": "stream",
     "text": [
      "[33, 115, 116, 204]\n",
      "83 84\n"
     ]
    },
    {
     "name": "stderr",
     "output_type": "stream",
     "text": [
      "@> 754 atoms and 1 coordinate set(s) were parsed in 0.01s.\n",
      "@> Secondary structures were assigned to 43 residues.\n",
      "@> Hessian was built in 0.05s.\n",
      "@> 20 modes were calculated in 0.02s.\n"
     ]
    },
    {
     "name": "stdout",
     "output_type": "stream",
     "text": [
      "[1, 45, 46, 86]\n",
      "45 46\n",
      "[3, 122, 123, 212]\n",
      "120 121\n"
     ]
    },
    {
     "name": "stderr",
     "output_type": "stream",
     "text": [
      "@> 1720 atoms and 1 coordinate set(s) were parsed in 0.02s.\n",
      "@> Secondary structures were assigned to 144 residues.\n",
      "@> Hessian was built in 0.12s.\n",
      "@> 20 modes were calculated in 0.04s.\n",
      "@> 2978 atoms and 1 coordinate set(s) were parsed in 0.03s.\n",
      "@> Secondary structures were assigned to 171 residues.\n"
     ]
    },
    {
     "name": "stdout",
     "output_type": "stream",
     "text": [
      "[9, 141, 142, 303]\n",
      "133 134\n"
     ]
    },
    {
     "name": "stderr",
     "output_type": "stream",
     "text": [
      "@> Hessian was built in 0.18s.\n",
      "@> 20 modes were calculated in 0.07s.\n",
      "@> 1512 atoms and 1 coordinate set(s) were parsed in 0.02s.\n",
      "@> Secondary structures were assigned to 108 residues.\n",
      "@> Hessian was built in 0.09s.\n",
      "@> 20 modes were calculated in 0.03s.\n"
     ]
    },
    {
     "name": "stdout",
     "output_type": "stream",
     "text": [
      "[4, 104, 105, 182]\n",
      "101 102\n"
     ]
    },
    {
     "name": "stderr",
     "output_type": "stream",
     "text": [
      "@> 1909 atoms and 1 coordinate set(s) were parsed in 0.02s.\n",
      "@> Secondary structures were assigned to 156 residues.\n",
      "@> Hessian was built in 0.13s.\n"
     ]
    },
    {
     "name": "stdout",
     "output_type": "stream",
     "text": [
      "[14, 104, 105, 238]\n",
      "91 92\n"
     ]
    },
    {
     "name": "stderr",
     "output_type": "stream",
     "text": [
      "@> 20 modes were calculated in 0.04s.\n",
      "@> 754 atoms and 1 coordinate set(s) were parsed in 0.01s.\n",
      "@> Secondary structures were assigned to 43 residues.\n",
      "@> Hessian was built in 0.05s.\n",
      "@> 20 modes were calculated in 0.01s.\n"
     ]
    },
    {
     "name": "stdout",
     "output_type": "stream",
     "text": [
      "[1, 45, 46, 86]\n",
      "45 46\n",
      "[6, 101, 102, 200]\n",
      "96 97\n"
     ]
    },
    {
     "name": "stderr",
     "output_type": "stream",
     "text": [
      "@> 1724 atoms and 1 coordinate set(s) were parsed in 0.02s.\n",
      "@> Secondary structures were assigned to 109 residues.\n",
      "@> Hessian was built in 0.11s.\n",
      "@> 20 modes were calculated in 0.03s.\n"
     ]
    }
   ],
   "source": [
    "#non_obl ++++++++++++++++++++++++++++++++++++++++++++++++++++++++++++++++++++++++\n",
    "higher_corr_per_non_obl=[] #list of % of residues having high correlation (> cutoff) in proteins\n",
    "pdb_ids_non_obl=[] #list used to know the pdbs having high correlation and hence outlier\n",
    "all_corr_non_obl=[] #stores all correlation values of proteins\n",
    "\n",
    "for pdb in non_obl_pdbs1:\n",
    "    pdb_ids_non_obl.append(pdb)\n",
    "        \n",
    "    #finding domain boundary\n",
    "    pdb_locs=find_pdb(pdb.lower(),data_lines)#gives the line numbers which contain this pdb id\n",
    "    dom_locs=[]#start and end positions of domains in that pdb\n",
    "    for i in pdb_locs:\n",
    "        dom_locs.append(dom_start(data_lines[i])[0][1])\n",
    "        dom_locs.append(dom_end(data_lines[i])[0][1])\n",
    "    dom_locs=sorted([int(i) for i in dom_locs]) #sorted domain locations and converting to int.\n",
    "    print(dom_locs)\n",
    "    h=(dom_locs[1]-dom_locs[0])+1 #height---vertical\n",
    "    w=(dom_locs[2]-dom_locs[0])+1 #width---horizontal\n",
    "    print(h,w)\n",
    "    \n",
    "    #ANM calculation-------------------------------\n",
    "    prot=parsePDB(pdb_dir+pdb+\".pdb\")\n",
    "    #print(pdb,prot.numResidues())#no. of residues\n",
    "    prot_ca=prot.select('calpha')\n",
    "    anm=ANM()\n",
    "    anm.buildHessian(prot_ca)\n",
    "    anm.calcModes()\n",
    "    cor=calcCrossCorr(anm)\n",
    "    dom_corr=[cor[i][j] for i in range(h) for j in range(w,len(cor))] #top right corner of matrix\n",
    "    higher_corr_per_non_obl.append((len([k for k in dom_corr if abs(k)>0.5])/len(dom_corr))*100) #% of residues with high correlation between dom1 and dom2\n",
    "    for z in dom_corr:\n",
    "        all_corr_non_obl.append(z)\n",
    "\n",
    "\n",
    "\n",
    "d_non_obl=dict(zip(pdb_ids_non_obl,higher_corr_per_non_obl)) #dictionary which store pdb id and its % of residues highly correlated\n",
    "d_non_obl_sort=sorted(d_non_obl.items(), key=lambda x: x[1], reverse=True) #sorting dict according to values\n"
   ]
  },
  {
   "cell_type": "code",
   "execution_count": 9,
   "id": "finnish-blend",
   "metadata": {},
   "outputs": [
    {
     "name": "stdout",
     "output_type": "stream",
     "text": [
      "--------------O B L ----------------------\n",
      "length of array 110\n",
      "max: 51.93452380952381\n",
      "mean: 15.97688289163801\n",
      "--------------N O N - O B L --------------\n",
      "length of array 110\n",
      "max: 38.236350574712645\n",
      "mean: 11.570873033863228\n"
     ]
    }
   ],
   "source": [
    "print('--------------O B L ----------------------')\n",
    "print('length of array',len(higher_corr_per_obl))\n",
    "print('max:',max(higher_corr_per_obl))\n",
    "print('mean:',np.mean(higher_corr_per_obl))\n",
    "print('--------------N O N - O B L --------------')\n",
    "print('length of array',len(higher_corr_per_non_obl))\n",
    "print('max:',max(higher_corr_per_non_obl))\n",
    "print('mean:',np.mean(higher_corr_per_non_obl))"
   ]
  },
  {
   "cell_type": "code",
   "execution_count": 10,
   "id": "modified-elite",
   "metadata": {},
   "outputs": [],
   "source": [
    "data11=list([higher_corr_per_obl,higher_corr_per_non_obl])"
   ]
  },
  {
   "cell_type": "code",
   "execution_count": 12,
   "id": "perfect-narrow",
   "metadata": {
    "scrolled": false
   },
   "outputs": [
    {
     "data": {
      "text/plain": [
       "Text(0, 0.5, '% of residues')"
      ]
     },
     "execution_count": 12,
     "metadata": {},
     "output_type": "execute_result"
    },
    {
     "data": {
      "image/png": "[encoded data removed]",
      "text/plain": [
       "<Figure size 2400x1600 with 1 Axes>"
      ]
     },
     "metadata": {
      "needs_background": "light"
     },
     "output_type": "display_data"
    }
   ],
   "source": [
    "plt.figure(dpi=400)\n",
    "ax=sns.boxplot(data=data11,showmeans=True,palette=\"RdYlBu\",saturation=50)\n",
    "xticklabels=['Obl', 'Non-obl']\n",
    "ax.set_xticklabels(xticklabels,fontweight='bold')\n",
    "#plt.ylim(0,15)\n",
    "plt.ylabel('% of residues')\n",
    "#plt.savefig('random_non_obl/rand_box_0.5.jpg',dpi=300)"
   ]
  },
  {
   "cell_type": "code",
   "execution_count": 246,
   "id": "consolidated-conversion",
   "metadata": {
    "scrolled": false
   },
   "outputs": [
    {
     "data": {
      "image/png": "[encoded data removed]",
      "text/plain": [
       "<Figure size 600x400 with 1 Axes>"
      ]
     },
     "metadata": {
      "needs_background": "light"
     },
     "output_type": "display_data"
    }
   ],
   "source": [
    "plt.figure(dpi=100)\n",
    "plt.hist(data11,bins=10,color=('bisque','deepskyblue'),edgecolor='black')\n",
    "plt.xticks([(x*5.75)+1.5 for x in range(11)],[x*6 for x in range(11)])\n",
    "#plt.yticks(np.arange(0,60,5))\n",
    "plt.legend(('Obl','Non-obl'))\n",
    "plt.xlabel('% of residues highly correlated in proteins',fontweight='bold')\n",
    "plt.ylabel('Count',fontweight='bold')\n",
    "plt.title('Distribution of cross-correlations > 0.5 of residues',fontweight='bold')\n",
    "#plt.ylim(0,25)\n",
    "#plt.savefig('random_non_obl/rand_distribution_0.5_zoomed.jpg', dpi=300)"
   ]
  },
  {
   "cell_type": "code",
   "execution_count": 13,
   "id": "attractive-vegetarian",
   "metadata": {},
   "outputs": [
    {
     "name": "stdout",
     "output_type": "stream",
     "text": [
      "MannwhitneyuResult(statistic=4362.0, pvalue=0.00017525622300984715)\n",
      "KstestResult(statistic=0.2818181818181818, pvalue=0.0002970971245721983)\n"
     ]
    }
   ],
   "source": [
    "#$$$$$$$$$$$$$$$$$$$$$$$$$$$$$$$$$$$$$$$$$$$$$$$$$$$$$$$$$$$$$\n",
    "print(mannwhitneyu(higher_corr_per_obl,higher_corr_per_non_obl)) #mann-whitney test\n",
    "print(kstest(higher_corr_per_obl,higher_corr_per_non_obl)) #ks test\n",
    "#$$$$$$$$$$$$$$$$$$$$$$$$$$$$$$$$$$$$$$$$$$$$$$$$$$$$$$$$$$$$$"
   ]
  }
 ],
 "metadata": {
  "kernelspec": {
   "display_name": "Python 3",
   "language": "python",
   "name": "python3"
  },
  "language_info": {
   "codemirror_mode": {
    "name": "ipython",
    "version": 3
   },
   "file_extension": ".py",
   "mimetype": "text/x-python",
   "name": "python",
   "nbconvert_exporter": "python",
   "pygments_lexer": "ipython3",
   "version": "3.8.10"
  }
 },
 "nbformat": 4,
 "nbformat_minor": 5
}
